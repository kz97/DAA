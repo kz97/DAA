{
  "nbformat": 4,
  "nbformat_minor": 0,
  "metadata": {
    "colab": {
      "name": "DAA_M05_CS2.ipynb",
      "provenance": [],
      "collapsed_sections": [],
      "toc_visible": true
    },
    "kernelspec": {
      "display_name": "Python 3",
      "name": "python3"
    }
  },
  "cells": [
    {
      "cell_type": "markdown",
      "metadata": {
        "id": "Hsmm1hugzhev"
      },
      "source": [
        "# DAA M05 Classification and neural networks\n",
        "## Case Study 2\n",
        "\n",
        "### Purpose:\n",
        "This case study involves building neural networks to recognise handwritten digits from zero to nine. The case study also compares the performance of the neural networks built to the performance of a gradient boosting machine (GBM) built to solve the same problem.\n",
        "\n",
        "### References:\n",
        "The dataset used in this case study is a famous Modified National Institute of Standards and Technology (MNIST) dataset of handwritten images (http://yann.lecun.com/exdb/mnist/). The MNIST dataset is popular for use in benchmarking classification algorithms.\n",
        "\n",
        "The dataset has 42,000 observations, each representing a greyscale image of a hand-drawn digit from zero to nine. Each image is 28 pixels in height and 28 pixels in width, making a total of 784 pixels (28x28). Each pixel has a single pixel value associated with it, from 0 to 255, indicating the lightness or darkness of that pixel. Higher pixel values represent darker pixels. The dataset represents these images as 784 features, with each feature representing a different pixel in the image.\n",
        "\n",
        "The dataset also contains one response ('label') that takes integer values from zero to nine, indicatating the digit drawn in each image."
      ]
    },
    {
      "cell_type": "markdown",
      "metadata": {
        "id": "KLhysEkOy1M1"
      },
      "source": [
        "## Packages\n",
        "This section imports the packages that will be required for this exercise/case study.\n",
        "\n",
        "We'll use:\n",
        "\n",
        "\n",
        "*   pandas for data management\n",
        "*   numpy for mathematical operations\n",
        "*   Support functions from matplotlib, sklearns, seaborn packages\n",
        "*   keras, from the tensorflow package, for fitting the neural networks"
      ]
    },
    {
      "cell_type": "code",
      "metadata": {
        "id": "lOOaFEDww3Xa"
      },
      "source": [
        "import pandas as pd # For data management.\n",
        "import numpy as np # For mathematical operations.\n",
        "\n",
        "# Matplotlib and Seaborn are used for plotting.\n",
        "import matplotlib.pyplot as plt\n",
        "import matplotlib.image as mpimg\n",
        "import seaborn as sns\n",
        "%matplotlib inline\n",
        "\n",
        "# Various scikit-learn functions to help with modelling and diagnostics.\n",
        "from sklearn.model_selection import train_test_split\n",
        "from sklearn.metrics import confusion_matrix\n",
        "import itertools\n",
        "\n",
        "# Keras, from the Tensorflow package, is used for fitting the neural networks.\n",
        "from keras.utils.np_utils import to_categorical\n",
        "from keras.models import Sequential\n",
        "from keras.layers import Dense, Dropout, Flatten, Conv2D, MaxPool2D\n",
        "from tensorflow.keras.optimizers import RMSprop, SGD\n",
        "from keras.preprocessing.image import ImageDataGenerator\n",
        "from keras.callbacks import ReduceLROnPlateau\n",
        "from tensorflow.keras.utils import plot_model\n",
        "\n",
        "import os\n",
        "from google.colab import files"
      ],
      "execution_count": 2,
      "outputs": []
    },
    {
      "cell_type": "markdown",
      "metadata": {
        "id": "degOq8-dKt5n"
      },
      "source": [
        "## Functions\n",
        "\n",
        "This section defines functions that will be used for this exercise/case study."
      ]
    },
    {
      "cell_type": "code",
      "metadata": {
        "id": "cWGRJVd3LBF0"
      },
      "source": [
        "# Define a function to split the data into train, validation, and test sets.\n",
        "# This function uses the train_test_split function from the sklearn package\n",
        "# to do the actual data splitting.\n",
        "\n",
        "def create_data_splits(dataset, response_col):\n",
        "    # Split data into train/test (80%, 20%).\n",
        "    train_full, test = train_test_split(dataset, test_size = 0.2, random_state = 123)\n",
        "\n",
        "    # Create a validation set from the training data (20%).\n",
        "    train, validation = train_test_split(train_full, test_size = 0.2, random_state = 234)\n",
        "\n",
        "    # Create train and validation model matrices and response vectors.\n",
        "    # For the response vector, convert Churn Yes/No to 1/0\n",
        "\n",
        "    train_x = train.drop(labels=response_col, axis=1)\n",
        "    train_y = train[response_col]\n",
        "    train_y.index = range(len(train_y))\n",
        "\n",
        "    validation_x = validation.drop(labels=response_col, axis=1)\n",
        "    validation_y = validation[response_col]\n",
        "    validation_y.index = range(len(validation_y))\n",
        "\n",
        "    test_x = test.drop(labels=response_col, axis=1)\n",
        "    test_y = test[response_col]\n",
        "    test_y.index = range(len(test_y))\n",
        "\n",
        "    return train_x, train_y, validation_x, validation_y, test_x, test_y"
      ],
      "execution_count": 3,
      "outputs": []
    },
    {
      "cell_type": "code",
      "metadata": {
        "id": "ik25IoYqsLWo"
      },
      "source": [
        "# Define a function to generate a confusion matrix to observe a model's results.\n",
        "def plot_confusion_matrix(cm, classes,\n",
        "                          normalise=False,\n",
        "                          title='Confusion matrix',\n",
        "                          cmap=plt.cm.Blues):\n",
        "    '''\n",
        "    This function prints and plots a confusion matrix.\n",
        "    Normalisation of the matrix can be applied by setting `normalise=True`.\n",
        "    Normalisation ensures that the sum of each row in the confusion matrix is 1.\n",
        "    '''\n",
        "    plt.imshow(cm, interpolation='nearest', cmap=cmap)\n",
        "    plt.title(title)\n",
        "    plt.colorbar()\n",
        "    tick_marks = np.arange(len(classes))\n",
        "    plt.xticks(tick_marks, classes, rotation=45)\n",
        "    plt.yticks(tick_marks, classes)\n",
        "\n",
        "    if normalise:\n",
        "        cm = cm.astype('float') / cm.sum(axis=1)[:, np.newaxis]\n",
        "\n",
        "    thresh = cm.max() / 2.\n",
        "    for i, j in itertools.product(range(cm.shape[0]), range(cm.shape[1])):\n",
        "        plt.text(j, i, cm[i, j],\n",
        "                 horizontalalignment='center',\n",
        "                 color='white' if cm[i, j] > thresh else 'black')\n",
        "\n",
        "    plt.tight_layout()\n",
        "    plt.ylabel('True response')\n",
        "    plt.xlabel('Predicted response')"
      ],
      "execution_count": 4,
      "outputs": []
    },
    {
      "cell_type": "markdown",
      "metadata": {
        "id": "j71pFblD2kdV"
      },
      "source": [
        "## Data\n",
        "This section:\n",
        "- imports the data that will be used in the modelling;\n",
        "- explores the data; and\n",
        "- prepares the data for modelling."
      ]
    },
    {
      "cell_type": "markdown",
      "metadata": {
        "id": "clLTBYpNvzCh"
      },
      "source": [
        "### Import data\n",
        "\n",
        "The code below uploads the csv file to google colab, and then reads it into a pandas data frame.\n",
        "\n",
        "Note that the MNIST dataset is large (75MB) hence it is slow to upload using the 'files.upload()' method.\n",
        "\n",
        "An alternative, faster method to upload the dataset is to first save it\n",
        "to Google Drive (https://drive.google.com/drive/my-drive) in a folder called 'DAA datasets' and then upload the file into Colab directly from Google Drive.\n",
        "\n",
        "The Google Drive method is used below. The 'files.upload()' method is also included (commented out with ##) in case you would prefer to avoid using Google Drive."
      ]
    },
    {
      "cell_type": "code",
      "metadata": {
        "colab": {
          "base_uri": "https://localhost:8080/"
        },
        "id": "LfF8NKv_KlQR",
        "outputId": "d4b4b04b-c593-4783-e828-03ce7504fcd3"
      },
      "source": [
        "# Mount your Google Drive.\n",
        "\n",
        "# If you are using the suggested method of uploading directly from Google\n",
        "# Drive, you first need to run the code below to mount your Google Drive\n",
        "# folder to Colab so that it can be accessed in Colab.\n",
        "from google.colab import drive\n",
        "drive.mount('/content/gdrive/',force_remount=True)\n",
        "  # After running this code, you should follow the steps shown in the\n",
        "  # output box below:\n",
        "  #    1. click on the link to Google Drive;\n",
        "  #    2. login to Google Drive;\n",
        "  #    3. copy the authorization code provided;\n",
        "  #    4. paste the authorization code into the box below."
      ],
      "execution_count": 5,
      "outputs": [
        {
          "output_type": "stream",
          "name": "stdout",
          "text": [
            "Mounted at /content/gdrive/\n"
          ]
        }
      ]
    },
    {
      "cell_type": "code",
      "metadata": {
        "id": "vFqxkLuoKpr-"
      },
      "source": [
        "# Specify the Google Drive folder that your datasets are saved in.\n",
        "infolder = '/content/gdrive/My Drive/DAA datasets/'"
      ],
      "execution_count": 6,
      "outputs": []
    },
    {
      "cell_type": "code",
      "metadata": {
        "id": "g0_jR1BU2kHv"
      },
      "source": [
        "# Import the dataset from Google Drive.\n",
        "\n",
        "# Specify the filename from your Google Drive.\n",
        "file = 'DAA_M05_CS2_data.csv'\n",
        "\n",
        "# Read in the data from your Google Drive folder.\n",
        "dataset = pd.read_csv (infolder+file)\n",
        "\n",
        "# Alternative (slower) method:\n",
        "# files.upload()\n",
        "  # When prompted, select the DAA_M05_CS2_data.csv dataset to upload.\n",
        "  # Note that this may take some time to upload as the file is large.\n",
        "# dataset = pd.read_csv('/content/DAA_M05_CS2_data.csv', header = 0)"
      ],
      "execution_count": 7,
      "outputs": []
    },
    {
      "cell_type": "markdown",
      "metadata": {
        "id": "xIh2C1I05KbV"
      },
      "source": [
        "### Explore data (EDA)\n",
        "Prior to commencing any modelling, the code below observes:\n",
        "\n",
        "- the features in the dataset and their types;\n",
        "- the count of the number of observations for each response class.\n",
        "\n",
        "Graphical observations of the images will be made later in the notebook once the data has been pre-processed."
      ]
    },
    {
      "cell_type": "code",
      "metadata": {
        "colab": {
          "base_uri": "https://localhost:8080/"
        },
        "id": "vqO5aO2s5KCW",
        "outputId": "3574a55c-6734-4bb5-9f41-aa3b772b3d7a"
      },
      "source": [
        "# Check the types of each feature and the response variable ('label').\n",
        "dataset.dtypes"
      ],
      "execution_count": 8,
      "outputs": [
        {
          "output_type": "execute_result",
          "data": {
            "text/plain": [
              "label       int64\n",
              "pixel0      int64\n",
              "pixel1      int64\n",
              "pixel2      int64\n",
              "pixel3      int64\n",
              "            ...  \n",
              "pixel779    int64\n",
              "pixel780    int64\n",
              "pixel781    int64\n",
              "pixel782    int64\n",
              "pixel783    int64\n",
              "Length: 785, dtype: object"
            ]
          },
          "metadata": {},
          "execution_count": 8
        }
      ]
    },
    {
      "cell_type": "code",
      "metadata": {
        "colab": {
          "base_uri": "https://localhost:8080/",
          "height": 470
        },
        "id": "ar25AZyy7Ur_",
        "outputId": "51603002-7858-415b-86f1-2a10a573bcc8"
      },
      "source": [
        "# Extract the counts for each response class (digit) and build a barplot of these\n",
        "# counts for each of interpretation.\n",
        "sns.countplot(x='label',data=dataset)\n",
        "print(dataset['label'].value_counts())"
      ],
      "execution_count": 9,
      "outputs": [
        {
          "output_type": "stream",
          "name": "stdout",
          "text": [
            "1    4684\n",
            "7    4401\n",
            "3    4351\n",
            "9    4188\n",
            "2    4177\n",
            "6    4137\n",
            "0    4132\n",
            "4    4072\n",
            "8    4063\n",
            "5    3795\n",
            "Name: label, dtype: int64\n"
          ]
        },
        {
          "output_type": "display_data",
          "data": {
            "image/png": "[encoded data removed]",
            "text/plain": [
              "<Figure size 432x288 with 1 Axes>"
            ]
          },
          "metadata": {
            "needs_background": "light"
          }
        }
      ]
    },
    {
      "cell_type": "markdown",
      "metadata": {
        "id": "hrS2B_AVLYYh"
      },
      "source": [
        "### Prepare data\n",
        "The dataset will be pre-processed so that neural networks can be built with the data.\n"
      ]
    },
    {
      "cell_type": "code",
      "metadata": {
        "id": "Ot096UAr51zc"
      },
      "source": [
        "## Split the dataset into a train, validation, and test set. \n",
        "train_x, train_y, validation_x, validation_y, test_x, test_y \\\n",
        "= create_data_splits(dataset, 'label')"
      ],
      "execution_count": 10,
      "outputs": []
    },
    {
      "cell_type": "code",
      "metadata": {
        "id": "NEqw4D48_ZUe"
      },
      "source": [
        "# Rescale the features from being in the range [0,255] to [0:1].\n",
        "train_x = train_x/255.0\n",
        "validation_x = validation_x/255.0\n",
        "test_x = test_x/255.0"
      ],
      "execution_count": 11,
      "outputs": []
    },
    {
      "cell_type": "code",
      "metadata": {
        "id": "ioiJNJoOBQqs"
      },
      "source": [
        "# Reshape the features for each observation from being a vector of size 784\n",
        "# to being a matrix of size 28x28.\n",
        "# This is required for building the convolutional neural network (CNN) below.\n",
        "train_cnn_x = train_x.values.reshape(-1, 28, 28, 1)\n",
        "validation_cnn_x = validation_x.values.reshape(-1, 28, 28, 1)\n",
        "test_cnn_x = test_x.values.reshape(-1, 28, 28, 1)"
      ],
      "execution_count": 12,
      "outputs": []
    },
    {
      "cell_type": "markdown",
      "metadata": {
        "id": "X4pnmU5ip2Qo"
      },
      "source": [
        "### View observations\n",
        "The code below visualises an observation (hand-written digit) from each of the response classes."
      ]
    },
    {
      "cell_type": "code",
      "metadata": {
        "colab": {
          "base_uri": "https://localhost:8080/",
          "height": 295
        },
        "id": "pmQ69roMx-Fw",
        "outputId": "c304f1de-815b-42f3-a197-c5de99faf4b3"
      },
      "source": [
        "# Visualise an example from each of the response classes\n",
        "# (the digits from 0 to 9).\n",
        "fig = plt.figure(figsize=(10,5))\n",
        "rows = 2\n",
        "columns = 5\n",
        "for i in range(0, 10):\n",
        "    fig.add_subplot(rows, columns, i+1)\n",
        "    plt.imshow(train_cnn_x[train_y[train_y == i].index[0]][:,:,0])\n",
        "plt.show()\n"
      ],
      "execution_count": 13,
      "outputs": [
        {
          "output_type": "display_data",
          "data": {
            "image/png": "[encoded data removed]",
            "text/plain": [
              "<Figure size 720x360 with 10 Axes>"
            ]
          },
          "metadata": {
            "needs_background": "light"
          }
        }
      ]
    },
    {
      "cell_type": "code",
      "metadata": {
        "id": "5XOQbbR6BBys"
      },
      "source": [
        "# Encode the response from a continuous (integer) to a categorical variable.\n",
        "train_y = to_categorical(train_y, num_classes=10)\n",
        "validation_y = to_categorical(validation_y, num_classes=10)\n",
        "test_y = to_categorical(test_y, num_classes=10)"
      ],
      "execution_count": 14,
      "outputs": []
    },
    {
      "cell_type": "markdown",
      "metadata": {
        "id": "6Wr9C-fWTIXi"
      },
      "source": [
        "## Modelling\n",
        "This section:\n",
        "- fits a model;\n",
        "- evaluates the fitted model;\n",
        "- improves the model; and\n",
        "- selects a final model."
      ]
    },
    {
      "cell_type": "markdown",
      "metadata": {
        "id": "YArrBJcd2Zrt"
      },
      "source": [
        "### Fit a 'vanilla' neural network (NN 1)\n",
        "\n",
        "The code below uses Keras to construct a neural network with:\n",
        "- two hidden layers, each with 16 neurons and the ReLU activation function; and\n",
        "- one output layer with 10 neurons (representing each of the digits from zero to nine) and the softmax activation function.\n",
        "\n"
      ]
    },
    {
      "cell_type": "code",
      "metadata": {
        "colab": {
          "base_uri": "https://localhost:8080/"
        },
        "id": "SIGEcNkCUeAb",
        "outputId": "c698557b-5740-426d-b6c9-71a2cab434de"
      },
      "source": [
        "# Specify the model's architecture.\n",
        "nn_model = Sequential()\n",
        "nn_model.add(Dense(16, input_dim= 784, kernel_initializer='normal', activation='relu'))\n",
        "nn_model.add(Dense(16, activation='relu', kernel_regularizer='l2'))\n",
        "nn_model.add(Dense(10, activation='softmax'))\n",
        "\n",
        "# Compile the model.\n",
        "opt = SGD(learning_rate=0.2, momentum=0.0)\n",
        "  # This specifies that regular stochastic gradient descent (SGD) should be\n",
        "  # used with a learning rate of 0.2.\n",
        "  # Momentum = 0 specifies that the regular SGD algorithm should be used\n",
        "  # 'without momentum'.\n",
        "  # SGD with momentum is a variant on regular SGD that uses an\n",
        "  # exponential moving average of current and past gradients rather than just\n",
        "  # the gradient for the current iteration.\n",
        "nn_model.compile(\n",
        "    loss='categorical_crossentropy', \n",
        "      # The 'categorical_crossentropy' loss function is useful\n",
        "      # for an integer response variable.\n",
        "    optimizer =  opt,\n",
        "\n",
        "    metrics=['accuracy'],\n",
        ")\n",
        "nn_hist = nn_model.fit(np.array(train_x), np.array(train_y), epochs=100,batch_size=1000, validation_data = (validation_x, validation_y))"
      ],
      "execution_count": 15,
      "outputs": [
        {
          "output_type": "stream",
          "name": "stdout",
          "text": [
            "Epoch 1/100\n",
            "27/27 [==============================] - 1s 25ms/step - loss: 1.8133 - accuracy: 0.4523 - val_loss: 1.1921 - val_accuracy: 0.6746\n",
            "Epoch 2/100\n",
            "27/27 [==============================] - 0s 11ms/step - loss: 1.0227 - accuracy: 0.7230 - val_loss: 0.8980 - val_accuracy: 0.7516\n",
            "Epoch 3/100\n",
            "27/27 [==============================] - 0s 12ms/step - loss: 0.7837 - accuracy: 0.7982 - val_loss: 0.7330 - val_accuracy: 0.8210\n",
            "Epoch 4/100\n",
            "27/27 [==============================] - 0s 10ms/step - loss: 0.6882 - accuracy: 0.8292 - val_loss: 0.6082 - val_accuracy: 0.8647\n",
            "Epoch 5/100\n",
            "27/27 [==============================] - 0s 11ms/step - loss: 0.5778 - accuracy: 0.8692 - val_loss: 0.5564 - val_accuracy: 0.8735\n",
            "Epoch 6/100\n",
            "27/27 [==============================] - 0s 13ms/step - loss: 0.5318 - accuracy: 0.8794 - val_loss: 0.5345 - val_accuracy: 0.8735\n",
            "Epoch 7/100\n",
            "27/27 [==============================] - 0s 11ms/step - loss: 0.5008 - accuracy: 0.8842 - val_loss: 0.4865 - val_accuracy: 0.8918\n",
            "Epoch 8/100\n",
            "27/27 [==============================] - 0s 11ms/step - loss: 0.4561 - accuracy: 0.8989 - val_loss: 0.4560 - val_accuracy: 0.8993\n",
            "Epoch 9/100\n",
            "27/27 [==============================] - 0s 11ms/step - loss: 0.4422 - accuracy: 0.9005 - val_loss: 0.4555 - val_accuracy: 0.8912\n",
            "Epoch 10/100\n",
            "27/27 [==============================] - 0s 11ms/step - loss: 0.4504 - accuracy: 0.8932 - val_loss: 0.4178 - val_accuracy: 0.9042\n",
            "Epoch 11/100\n",
            "27/27 [==============================] - 0s 11ms/step - loss: 0.4084 - accuracy: 0.9064 - val_loss: 0.4182 - val_accuracy: 0.9045\n",
            "Epoch 12/100\n",
            "27/27 [==============================] - 0s 11ms/step - loss: 0.3969 - accuracy: 0.9086 - val_loss: 0.4857 - val_accuracy: 0.8754\n",
            "Epoch 13/100\n",
            "27/27 [==============================] - 0s 12ms/step - loss: 0.3969 - accuracy: 0.9072 - val_loss: 0.4501 - val_accuracy: 0.8817\n",
            "Epoch 14/100\n",
            "27/27 [==============================] - 0s 10ms/step - loss: 0.3962 - accuracy: 0.9045 - val_loss: 0.3819 - val_accuracy: 0.9095\n",
            "Epoch 15/100\n",
            "27/27 [==============================] - 0s 11ms/step - loss: 0.3685 - accuracy: 0.9140 - val_loss: 0.3727 - val_accuracy: 0.9101\n",
            "Epoch 16/100\n",
            "27/27 [==============================] - 0s 12ms/step - loss: 0.3685 - accuracy: 0.9133 - val_loss: 0.3797 - val_accuracy: 0.9100\n",
            "Epoch 17/100\n",
            "27/27 [==============================] - 0s 13ms/step - loss: 0.3537 - accuracy: 0.9180 - val_loss: 0.3624 - val_accuracy: 0.9115\n",
            "Epoch 18/100\n",
            "27/27 [==============================] - 0s 11ms/step - loss: 0.3792 - accuracy: 0.9052 - val_loss: 0.3587 - val_accuracy: 0.9122\n",
            "Epoch 19/100\n",
            "27/27 [==============================] - 0s 12ms/step - loss: 0.3389 - accuracy: 0.9208 - val_loss: 0.3720 - val_accuracy: 0.9085\n",
            "Epoch 20/100\n",
            "27/27 [==============================] - 0s 11ms/step - loss: 0.3396 - accuracy: 0.9197 - val_loss: 0.3536 - val_accuracy: 0.9116\n",
            "Epoch 21/100\n",
            "27/27 [==============================] - 0s 11ms/step - loss: 0.3340 - accuracy: 0.9204 - val_loss: 0.3365 - val_accuracy: 0.9211\n",
            "Epoch 22/100\n",
            "27/27 [==============================] - 0s 11ms/step - loss: 0.3353 - accuracy: 0.9189 - val_loss: 0.3541 - val_accuracy: 0.9147\n",
            "Epoch 23/100\n",
            "27/27 [==============================] - 0s 11ms/step - loss: 0.3203 - accuracy: 0.9257 - val_loss: 0.3300 - val_accuracy: 0.9198\n",
            "Epoch 24/100\n",
            "27/27 [==============================] - 0s 11ms/step - loss: 0.3227 - accuracy: 0.9243 - val_loss: 0.3257 - val_accuracy: 0.9220\n",
            "Epoch 25/100\n",
            "27/27 [==============================] - 0s 11ms/step - loss: 0.3153 - accuracy: 0.9247 - val_loss: 0.4420 - val_accuracy: 0.8743\n",
            "Epoch 26/100\n",
            "27/27 [==============================] - 0s 10ms/step - loss: 0.3160 - accuracy: 0.9247 - val_loss: 0.3239 - val_accuracy: 0.9220\n",
            "Epoch 27/100\n",
            "27/27 [==============================] - 0s 12ms/step - loss: 0.3094 - accuracy: 0.9269 - val_loss: 0.3199 - val_accuracy: 0.9244\n",
            "Epoch 28/100\n",
            "27/27 [==============================] - 0s 10ms/step - loss: 0.3066 - accuracy: 0.9277 - val_loss: 0.3207 - val_accuracy: 0.9225\n",
            "Epoch 29/100\n",
            "27/27 [==============================] - 0s 11ms/step - loss: 0.3091 - accuracy: 0.9251 - val_loss: 0.3317 - val_accuracy: 0.9183\n",
            "Epoch 30/100\n",
            "27/27 [==============================] - 0s 11ms/step - loss: 0.3188 - accuracy: 0.9216 - val_loss: 0.3208 - val_accuracy: 0.9228\n",
            "Epoch 31/100\n",
            "27/27 [==============================] - 0s 11ms/step - loss: 0.2912 - accuracy: 0.9329 - val_loss: 0.3401 - val_accuracy: 0.9140\n",
            "Epoch 32/100\n",
            "27/27 [==============================] - 0s 11ms/step - loss: 0.2915 - accuracy: 0.9304 - val_loss: 0.3412 - val_accuracy: 0.9115\n",
            "Epoch 33/100\n",
            "27/27 [==============================] - 0s 11ms/step - loss: 0.3022 - accuracy: 0.9270 - val_loss: 0.3075 - val_accuracy: 0.9253\n",
            "Epoch 34/100\n",
            "27/27 [==============================] - 0s 10ms/step - loss: 0.2782 - accuracy: 0.9355 - val_loss: 0.3190 - val_accuracy: 0.9207\n",
            "Epoch 35/100\n",
            "27/27 [==============================] - 0s 10ms/step - loss: 0.2916 - accuracy: 0.9304 - val_loss: 0.3596 - val_accuracy: 0.9058\n",
            "Epoch 36/100\n",
            "27/27 [==============================] - 0s 10ms/step - loss: 0.2858 - accuracy: 0.9318 - val_loss: 0.3081 - val_accuracy: 0.9240\n",
            "Epoch 37/100\n",
            "27/27 [==============================] - 0s 11ms/step - loss: 0.2894 - accuracy: 0.9301 - val_loss: 0.3357 - val_accuracy: 0.9144\n",
            "Epoch 38/100\n",
            "27/27 [==============================] - 0s 11ms/step - loss: 0.2801 - accuracy: 0.9338 - val_loss: 0.3008 - val_accuracy: 0.9262\n",
            "Epoch 39/100\n",
            "27/27 [==============================] - 0s 10ms/step - loss: 0.2652 - accuracy: 0.9393 - val_loss: 0.2929 - val_accuracy: 0.9278\n",
            "Epoch 40/100\n",
            "27/27 [==============================] - 0s 11ms/step - loss: 0.2712 - accuracy: 0.9354 - val_loss: 0.2986 - val_accuracy: 0.9274\n",
            "Epoch 41/100\n",
            "27/27 [==============================] - 0s 11ms/step - loss: 0.2799 - accuracy: 0.9327 - val_loss: 0.2871 - val_accuracy: 0.9301\n",
            "Epoch 42/100\n",
            "27/27 [==============================] - 0s 11ms/step - loss: 0.2696 - accuracy: 0.9351 - val_loss: 0.3200 - val_accuracy: 0.9156\n",
            "Epoch 43/100\n",
            "27/27 [==============================] - 0s 11ms/step - loss: 0.2688 - accuracy: 0.9369 - val_loss: 0.3078 - val_accuracy: 0.9211\n",
            "Epoch 44/100\n",
            "27/27 [==============================] - 0s 10ms/step - loss: 0.2825 - accuracy: 0.9298 - val_loss: 0.2803 - val_accuracy: 0.9312\n",
            "Epoch 45/100\n",
            "27/27 [==============================] - 0s 10ms/step - loss: 0.2696 - accuracy: 0.9358 - val_loss: 0.3026 - val_accuracy: 0.9256\n",
            "Epoch 46/100\n",
            "27/27 [==============================] - 0s 11ms/step - loss: 0.2945 - accuracy: 0.9269 - val_loss: 0.2933 - val_accuracy: 0.9249\n",
            "Epoch 47/100\n",
            "27/27 [==============================] - 0s 10ms/step - loss: 0.2593 - accuracy: 0.9391 - val_loss: 0.2950 - val_accuracy: 0.9286\n",
            "Epoch 48/100\n",
            "27/27 [==============================] - 0s 11ms/step - loss: 0.2538 - accuracy: 0.9413 - val_loss: 0.2774 - val_accuracy: 0.9333\n",
            "Epoch 49/100\n",
            "27/27 [==============================] - 0s 10ms/step - loss: 0.2543 - accuracy: 0.9400 - val_loss: 0.2877 - val_accuracy: 0.9305\n",
            "Epoch 50/100\n",
            "27/27 [==============================] - 0s 11ms/step - loss: 0.2574 - accuracy: 0.9378 - val_loss: 0.3201 - val_accuracy: 0.9153\n",
            "Epoch 51/100\n",
            "27/27 [==============================] - 0s 11ms/step - loss: 0.2509 - accuracy: 0.9398 - val_loss: 0.2826 - val_accuracy: 0.9271\n",
            "Epoch 52/100\n",
            "27/27 [==============================] - 0s 11ms/step - loss: 0.2474 - accuracy: 0.9403 - val_loss: 0.2849 - val_accuracy: 0.9304\n",
            "Epoch 53/100\n",
            "27/27 [==============================] - 0s 11ms/step - loss: 0.3268 - accuracy: 0.9170 - val_loss: 0.2806 - val_accuracy: 0.9321\n",
            "Epoch 54/100\n",
            "27/27 [==============================] - 0s 11ms/step - loss: 0.2433 - accuracy: 0.9449 - val_loss: 0.2736 - val_accuracy: 0.9311\n",
            "Epoch 55/100\n",
            "27/27 [==============================] - 0s 11ms/step - loss: 0.2402 - accuracy: 0.9442 - val_loss: 0.2785 - val_accuracy: 0.9308\n",
            "Epoch 56/100\n",
            "27/27 [==============================] - 0s 11ms/step - loss: 0.2401 - accuracy: 0.9439 - val_loss: 0.2689 - val_accuracy: 0.9345\n",
            "Epoch 57/100\n",
            "27/27 [==============================] - 0s 11ms/step - loss: 0.2510 - accuracy: 0.9403 - val_loss: 0.2689 - val_accuracy: 0.9341\n",
            "Epoch 58/100\n",
            "27/27 [==============================] - 0s 11ms/step - loss: 0.2374 - accuracy: 0.9445 - val_loss: 0.2831 - val_accuracy: 0.9280\n",
            "Epoch 59/100\n",
            "27/27 [==============================] - 0s 10ms/step - loss: 0.2426 - accuracy: 0.9419 - val_loss: 0.2720 - val_accuracy: 0.9332\n",
            "Epoch 60/100\n",
            "27/27 [==============================] - 0s 11ms/step - loss: 0.2408 - accuracy: 0.9423 - val_loss: 0.2749 - val_accuracy: 0.9304\n",
            "Epoch 61/100\n",
            "27/27 [==============================] - 0s 10ms/step - loss: 0.2348 - accuracy: 0.9444 - val_loss: 0.3382 - val_accuracy: 0.9070\n",
            "Epoch 62/100\n",
            "27/27 [==============================] - 0s 11ms/step - loss: 0.3015 - accuracy: 0.9241 - val_loss: 0.2795 - val_accuracy: 0.9301\n",
            "Epoch 63/100\n",
            "27/27 [==============================] - 0s 11ms/step - loss: 0.2303 - accuracy: 0.9477 - val_loss: 0.2667 - val_accuracy: 0.9362\n",
            "Epoch 64/100\n",
            "27/27 [==============================] - 0s 11ms/step - loss: 0.2310 - accuracy: 0.9461 - val_loss: 0.2616 - val_accuracy: 0.9363\n",
            "Epoch 65/100\n",
            "27/27 [==============================] - 0s 12ms/step - loss: 0.2248 - accuracy: 0.9481 - val_loss: 0.2597 - val_accuracy: 0.9360\n",
            "Epoch 66/100\n",
            "27/27 [==============================] - 0s 11ms/step - loss: 0.2282 - accuracy: 0.9464 - val_loss: 0.2737 - val_accuracy: 0.9312\n",
            "Epoch 67/100\n",
            "27/27 [==============================] - 0s 11ms/step - loss: 0.2295 - accuracy: 0.9451 - val_loss: 0.2645 - val_accuracy: 0.9357\n",
            "Epoch 68/100\n",
            "27/27 [==============================] - 0s 11ms/step - loss: 0.2346 - accuracy: 0.9445 - val_loss: 0.4141 - val_accuracy: 0.8853\n",
            "Epoch 69/100\n",
            "27/27 [==============================] - 0s 12ms/step - loss: 0.2351 - accuracy: 0.9442 - val_loss: 0.2625 - val_accuracy: 0.9336\n",
            "Epoch 70/100\n",
            "27/27 [==============================] - 0s 10ms/step - loss: 0.2211 - accuracy: 0.9491 - val_loss: 0.2577 - val_accuracy: 0.9374\n",
            "Epoch 71/100\n",
            "27/27 [==============================] - 0s 10ms/step - loss: 0.5638 - accuracy: 0.8683 - val_loss: 0.3379 - val_accuracy: 0.9185\n",
            "Epoch 72/100\n",
            "27/27 [==============================] - 0s 12ms/step - loss: 0.2664 - accuracy: 0.9408 - val_loss: 0.2822 - val_accuracy: 0.9344\n",
            "Epoch 73/100\n",
            "27/27 [==============================] - 0s 11ms/step - loss: 0.2352 - accuracy: 0.9477 - val_loss: 0.2681 - val_accuracy: 0.9341\n",
            "Epoch 74/100\n",
            "27/27 [==============================] - 0s 11ms/step - loss: 0.2242 - accuracy: 0.9497 - val_loss: 0.2618 - val_accuracy: 0.9341\n",
            "Epoch 75/100\n",
            "27/27 [==============================] - 0s 11ms/step - loss: 0.2205 - accuracy: 0.9502 - val_loss: 0.2555 - val_accuracy: 0.9362\n",
            "Epoch 76/100\n",
            "27/27 [==============================] - 0s 11ms/step - loss: 0.2208 - accuracy: 0.9496 - val_loss: 0.2648 - val_accuracy: 0.9365\n",
            "Epoch 77/100\n",
            "27/27 [==============================] - 0s 10ms/step - loss: 0.2162 - accuracy: 0.9501 - val_loss: 0.2563 - val_accuracy: 0.9363\n",
            "Epoch 78/100\n",
            "27/27 [==============================] - 0s 11ms/step - loss: 0.2125 - accuracy: 0.9516 - val_loss: 0.2534 - val_accuracy: 0.9365\n",
            "Epoch 79/100\n",
            "27/27 [==============================] - 0s 12ms/step - loss: 0.3876 - accuracy: 0.9042 - val_loss: 0.3769 - val_accuracy: 0.8988\n",
            "Epoch 80/100\n",
            "27/27 [==============================] - 0s 11ms/step - loss: 0.2502 - accuracy: 0.9448 - val_loss: 0.2695 - val_accuracy: 0.9338\n",
            "Epoch 81/100\n",
            "27/27 [==============================] - 0s 10ms/step - loss: 0.2208 - accuracy: 0.9513 - val_loss: 0.2662 - val_accuracy: 0.9338\n",
            "Epoch 82/100\n",
            "27/27 [==============================] - 0s 11ms/step - loss: 0.2137 - accuracy: 0.9516 - val_loss: 0.2597 - val_accuracy: 0.9330\n",
            "Epoch 83/100\n",
            "27/27 [==============================] - 0s 11ms/step - loss: 0.2093 - accuracy: 0.9522 - val_loss: 0.2542 - val_accuracy: 0.9359\n",
            "Epoch 84/100\n",
            "27/27 [==============================] - 0s 12ms/step - loss: 0.2085 - accuracy: 0.9518 - val_loss: 0.2686 - val_accuracy: 0.9278\n",
            "Epoch 85/100\n",
            "27/27 [==============================] - 0s 10ms/step - loss: 0.2086 - accuracy: 0.9507 - val_loss: 0.2505 - val_accuracy: 0.9369\n",
            "Epoch 86/100\n",
            "27/27 [==============================] - 0s 13ms/step - loss: 0.2110 - accuracy: 0.9509 - val_loss: 0.2569 - val_accuracy: 0.9341\n",
            "Epoch 87/100\n",
            "27/27 [==============================] - 0s 10ms/step - loss: 0.2071 - accuracy: 0.9521 - val_loss: 0.2559 - val_accuracy: 0.9344\n",
            "Epoch 88/100\n",
            "27/27 [==============================] - 0s 10ms/step - loss: 0.2160 - accuracy: 0.9473 - val_loss: 0.2496 - val_accuracy: 0.9353\n",
            "Epoch 89/100\n",
            "27/27 [==============================] - 0s 11ms/step - loss: 0.2565 - accuracy: 0.9358 - val_loss: 0.2523 - val_accuracy: 0.9357\n",
            "Epoch 90/100\n",
            "27/27 [==============================] - 0s 11ms/step - loss: 0.2045 - accuracy: 0.9541 - val_loss: 0.2553 - val_accuracy: 0.9344\n",
            "Epoch 91/100\n",
            "27/27 [==============================] - 0s 10ms/step - loss: 0.2023 - accuracy: 0.9534 - val_loss: 0.2505 - val_accuracy: 0.9382\n",
            "Epoch 92/100\n",
            "27/27 [==============================] - 0s 11ms/step - loss: 0.2007 - accuracy: 0.9538 - val_loss: 0.2479 - val_accuracy: 0.9391\n",
            "Epoch 93/100\n",
            "27/27 [==============================] - 0s 10ms/step - loss: 0.2052 - accuracy: 0.9511 - val_loss: 0.2603 - val_accuracy: 0.9348\n",
            "Epoch 94/100\n",
            "27/27 [==============================] - 0s 10ms/step - loss: 0.2009 - accuracy: 0.9534 - val_loss: 0.2805 - val_accuracy: 0.9238\n",
            "Epoch 95/100\n",
            "27/27 [==============================] - 0s 10ms/step - loss: 0.2078 - accuracy: 0.9493 - val_loss: 0.2425 - val_accuracy: 0.9381\n",
            "Epoch 96/100\n",
            "27/27 [==============================] - 0s 11ms/step - loss: 0.1979 - accuracy: 0.9540 - val_loss: 0.2426 - val_accuracy: 0.9397\n",
            "Epoch 97/100\n",
            "27/27 [==============================] - 0s 11ms/step - loss: 0.2063 - accuracy: 0.9507 - val_loss: 0.2522 - val_accuracy: 0.9335\n",
            "Epoch 98/100\n",
            "27/27 [==============================] - 0s 11ms/step - loss: 0.2081 - accuracy: 0.9506 - val_loss: 0.2447 - val_accuracy: 0.9375\n",
            "Epoch 99/100\n",
            "27/27 [==============================] - 0s 11ms/step - loss: 0.2093 - accuracy: 0.9489 - val_loss: 0.3012 - val_accuracy: 0.9183\n",
            "Epoch 100/100\n",
            "27/27 [==============================] - 0s 11ms/step - loss: 0.2037 - accuracy: 0.9519 - val_loss: 0.2425 - val_accuracy: 0.9394\n"
          ]
        }
      ]
    },
    {
      "cell_type": "markdown",
      "metadata": {
        "id": "1qlwyEeLS_gb"
      },
      "source": [
        "### Evaluate NN 1"
      ]
    },
    {
      "cell_type": "code",
      "metadata": {
        "colab": {
          "base_uri": "https://localhost:8080/",
          "height": 312
        },
        "id": "OyvmhM-JFTmo",
        "outputId": "dd0505da-eb94-490a-96a2-62f7d94b0ccd"
      },
      "source": [
        "# Plot the accuracy of the fitted model after each epoch.\n",
        "# An epoch is a full cycle through the training data.\n",
        "plt.plot(nn_hist.history['accuracy'], color='dodgerblue')\n",
        "plt.plot(nn_hist.history['val_accuracy'],color='orange')\n",
        "plt.title('NN1 model accuracy')\n",
        "plt.ylabel('accuracy')\n",
        "plt.xlabel('epoch')\n",
        "plt.legend(['train','validation'], loc='lower right')\n"
      ],
      "execution_count": 16,
      "outputs": [
        {
          "output_type": "execute_result",
          "data": {
            "text/plain": [
              "<matplotlib.legend.Legend at 0x7f632baa0690>"
            ]
          },
          "metadata": {},
          "execution_count": 16
        },
        {
          "output_type": "display_data",
          "data": {
            "image/png": "[encoded data removed]",
            "text/plain": [
              "<Figure size 432x288 with 1 Axes>"
            ]
          },
          "metadata": {
            "needs_background": "light"
          }
        }
      ]
    },
    {
      "cell_type": "markdown",
      "metadata": {
        "id": "leOZKW01_3Gs"
      },
      "source": [
        "The plot above confirms that the model has converged on an optimal solution, with both training and validation accuracy increasing rapidly over the first 10 or so epochs and then flattening out after that. Not much further improvement in accuracy is obtained after the first 10 or so epochs."
      ]
    },
    {
      "cell_type": "markdown",
      "metadata": {
        "id": "LZk6-cVZx9hy"
      },
      "source": [
        "### Fit a convolutional neural network (CNN)\n",
        "Next, a convolutional neural network (CNN) is constructed. CNNs are outlined in Section 5.7.1 of Module 5.\n",
        "\n",
        "The CNN below will use two convolutional layers with a 5x5 filter/kernel."
      ]
    },
    {
      "cell_type": "code",
      "metadata": {
        "id": "YNoohnC51um5"
      },
      "source": [
        "cnn_model = Sequential()\n",
        "\n",
        "cnn_model.add(Conv2D(filters = 16, kernel_size = (5,5), \n",
        "                 activation ='relu', input_shape = (28,28,1)))\n",
        "  # Notice from the input_shape = (28,28,1) term above\n",
        "  # that the CNN takes as input the 28x28 matrix of pixel features\n",
        "  # rather than the flattened vector of all 784 pixel features. \n",
        "cnn_model.add(Conv2D(filters = 16, kernel_size = (5,5), \n",
        "                 activation ='relu'))\n",
        "cnn_model.add(MaxPool2D(pool_size=(2,2)))\n",
        "\n",
        "cnn_model.add(Flatten())\n",
        "  # Flatten() converts the matrix outputs from the convolutional layers\n",
        "  # back into vectors for feeding into the output layer. \n",
        "cnn_model.add(Dense(10, activation = 'softmax'))"
      ],
      "execution_count": 17,
      "outputs": []
    },
    {
      "cell_type": "code",
      "metadata": {
        "id": "uI4qQ1kO1109",
        "colab": {
          "base_uri": "https://localhost:8080/"
        },
        "outputId": "248a7fae-5781-4307-d87e-6670d74558cd"
      },
      "source": [
        "# Define the regular stochastic gradient descent (SGD) optimiser (without\n",
        "# momentum, a learning rate of 0.2 and the crossentropy loss function.\n",
        "# to be used in the fitting of the model.\n",
        "opt = SGD(learning_rate=0.2, momentum=0.0)\n",
        "cnn_model.compile(optimizer = opt , loss = 'categorical_crossentropy',\n",
        "                  metrics=['accuracy'])\n",
        "\n",
        "epochs = 10\n",
        "batch_size = 10\n",
        "\n",
        "# Fit the CNN and capture the error and accuracy rates from the fitted model\n",
        "# after each epoch.\n",
        "cnn_hist = cnn_model.fit(train_cnn_x, train_y, batch_size = batch_size,\n",
        "                         epochs = epochs,\n",
        "                         validation_data = (validation_cnn_x, validation_y))"
      ],
      "execution_count": 18,
      "outputs": [
        {
          "output_type": "stream",
          "name": "stdout",
          "text": [
            "Epoch 1/10\n",
            "2688/2688 [==============================] - 54s 20ms/step - loss: 0.2196 - accuracy: 0.9338 - val_loss: 0.1695 - val_accuracy: 0.9570\n",
            "Epoch 2/10\n",
            "2688/2688 [==============================] - 51s 19ms/step - loss: 0.0981 - accuracy: 0.9713 - val_loss: 0.1027 - val_accuracy: 0.9713\n",
            "Epoch 3/10\n",
            "2688/2688 [==============================] - 50s 19ms/step - loss: 0.0868 - accuracy: 0.9752 - val_loss: 0.0968 - val_accuracy: 0.9728\n",
            "Epoch 4/10\n",
            "2688/2688 [==============================] - 49s 18ms/step - loss: 0.0858 - accuracy: 0.9759 - val_loss: 0.0917 - val_accuracy: 0.9740\n",
            "Epoch 5/10\n",
            "2688/2688 [==============================] - 49s 18ms/step - loss: 0.0716 - accuracy: 0.9793 - val_loss: 0.1039 - val_accuracy: 0.9731\n",
            "Epoch 6/10\n",
            "2688/2688 [==============================] - 49s 18ms/step - loss: 0.0648 - accuracy: 0.9818 - val_loss: 0.0884 - val_accuracy: 0.9759\n",
            "Epoch 7/10\n",
            "2688/2688 [==============================] - 50s 18ms/step - loss: 0.0652 - accuracy: 0.9821 - val_loss: 0.1682 - val_accuracy: 0.9647\n",
            "Epoch 8/10\n",
            "2688/2688 [==============================] - 62s 23ms/step - loss: 0.0799 - accuracy: 0.9796 - val_loss: 0.2065 - val_accuracy: 0.9629\n",
            "Epoch 9/10\n",
            "2688/2688 [==============================] - 52s 19ms/step - loss: 0.0707 - accuracy: 0.9828 - val_loss: 0.1557 - val_accuracy: 0.9690\n",
            "Epoch 10/10\n",
            "2688/2688 [==============================] - 51s 19ms/step - loss: 0.0714 - accuracy: 0.9833 - val_loss: 0.1524 - val_accuracy: 0.9673\n"
          ]
        }
      ]
    },
    {
      "cell_type": "markdown",
      "metadata": {
        "id": "Zej77hCgCwef"
      },
      "source": [
        "You should note that the CNN takes much longer to fit than the vanilla neural network (NN 1)."
      ]
    },
    {
      "cell_type": "markdown",
      "metadata": {
        "id": "v_viJKSHC7c1"
      },
      "source": [
        "### Evaluate CNN"
      ]
    },
    {
      "cell_type": "code",
      "metadata": {
        "colab": {
          "base_uri": "https://localhost:8080/",
          "height": 312
        },
        "id": "5mCGxlRmHxtf",
        "outputId": "d7e57d21-3e1f-4034-910f-887fb2c1686c"
      },
      "source": [
        "# Plot the accuracy of the CNN against each epoch\n",
        "# to ensure that the model has converged on an\n",
        "# optimal solution.\n",
        "plt.plot(cnn_hist.history['accuracy'],color='dodgerblue')\n",
        "plt.plot(cnn_hist.history['val_accuracy'],color='orange')\n",
        "plt.title('CNN model accuracy')\n",
        "plt.ylabel('accuracy')\n",
        "plt.xlabel('epoch')\n",
        "plt.legend(['train', 'validation'], loc='lower right')"
      ],
      "execution_count": 19,
      "outputs": [
        {
          "output_type": "execute_result",
          "data": {
            "text/plain": [
              "<matplotlib.legend.Legend at 0x7f63318058d0>"
            ]
          },
          "metadata": {},
          "execution_count": 19
        },
        {
          "output_type": "display_data",
          "data": {
            "image/png": "[encoded data removed]",
            "text/plain": [
              "<Figure size 432x288 with 1 Axes>"
            ]
          },
          "metadata": {
            "needs_background": "light"
          }
        }
      ]
    },
    {
      "cell_type": "markdown",
      "metadata": {
        "id": "DAnf_bKAUX2v"
      },
      "source": [
        "The graph of the accuracy suggests that the model may not have converged yet,since the validation accuracy is still volatile after 10 epochs. You can try to obtain a higher accuracy on the validation data by increasing the number of epochs used to train the model."
      ]
    },
    {
      "cell_type": "code",
      "metadata": {
        "colab": {
          "base_uri": "https://localhost:8080/"
        },
        "id": "VlBzKk4cEZ5W",
        "outputId": "374ede48-3f37-4730-bad3-f6eeb2d60a83"
      },
      "source": [
        "# Compare the accuracy obtained under the vanilla neural network (NN 1)\n",
        "# to that obtained under the CNN.\n",
        "{'CNN':cnn_hist.history['val_accuracy'][-1],\n",
        " 'NN 1': nn_hist.history['val_accuracy'][-1]}"
      ],
      "execution_count": 20,
      "outputs": [
        {
          "output_type": "execute_result",
          "data": {
            "text/plain": [
              "{'CNN': 0.9672619104385376, 'NN 1': 0.9394345283508301}"
            ]
          },
          "metadata": {},
          "execution_count": 20
        }
      ]
    },
    {
      "cell_type": "markdown",
      "metadata": {
        "id": "RR9yh1qmFtkf"
      },
      "source": [
        "The CNN had a higher accuracy after 10 epochs compared to the vanilla neural network after 100 epochs. However, the CNN took substantially more time to train. The final choice of which model to use should take into account the business context and, in particular, the value that the business assigns to a model's accuracy compared to its training efficiency."
      ]
    },
    {
      "cell_type": "markdown",
      "metadata": {
        "id": "Owe7TXwiGK-6"
      },
      "source": [
        "### Select the final model"
      ]
    },
    {
      "cell_type": "code",
      "metadata": {
        "id": "krb-hUHiGQQd"
      },
      "source": [
        "# Select the final model and call it `nn_model_final`.\n",
        "# In this case, it is assumed that model accuracy is\n",
        "# more important than model training speed, hence the\n",
        "# CNN is chosen.\n",
        "nn_model_final = cnn_model\n",
        "test_x_final = test_cnn_x"
      ],
      "execution_count": 21,
      "outputs": []
    },
    {
      "cell_type": "markdown",
      "metadata": {
        "id": "vVY2qMZVLVjy"
      },
      "source": [
        "## Observations"
      ]
    },
    {
      "cell_type": "markdown",
      "metadata": {
        "id": "bOmRXTdNx5Ms"
      },
      "source": [
        "### Predict on the test set\n",
        "Now that a final fitted model has been selected, it can be used to make predictions on the test set."
      ]
    },
    {
      "cell_type": "code",
      "metadata": {
        "id": "h26tgO_0FLmQ"
      },
      "source": [
        "# Make predictions on the test set.\n",
        "test_preds = nn_model_final.predict(test_x_final)\n",
        "# Convert the predictions (y_hat_gk) to class predictions (G(Xi.)).\n",
        "test_preds_classes = np.argmax(test_preds,axis = 1)\n",
        "# Convert the encoded responses (i.e. 0s and 1s to a single vector Numpy array\n",
        "# contained classes 0, 1, 2, ..., 9.\n",
        "test_y_classes = np.argmax(test_y,axis = 1)"
      ],
      "execution_count": 22,
      "outputs": []
    },
    {
      "cell_type": "markdown",
      "metadata": {
        "id": "OUNCSSdYHl47"
      },
      "source": [
        "Note that even though the CNN took a long time to train, it is very quick to score (i.e. make predictions based on a set of unseen observations)."
      ]
    },
    {
      "cell_type": "code",
      "metadata": {
        "colab": {
          "base_uri": "https://localhost:8080/",
          "height": 311
        },
        "id": "PSKIhNcUJYxb",
        "outputId": "4f8218d9-e396-4bd6-b611-cff98627d509"
      },
      "source": [
        "# Use the confusion matrix function defined at the top of the notebook\n",
        "# to observe the number of observations that have been\n",
        "# misclassified by the final model.\n",
        "\n",
        "# Compute the confusion matrix.\n",
        "confusion_mtx = confusion_matrix(test_y_classes, test_preds_classes) \n",
        "# Plot the confusion matrix.\n",
        "plot_confusion_matrix(confusion_mtx, classes = range(10))"
      ],
      "execution_count": 23,
      "outputs": [
        {
          "output_type": "display_data",
          "data": {
            "image/png": "[encoded data removed]",
            "text/plain": [
              "<Figure size 432x288 with 2 Axes>"
            ]
          },
          "metadata": {
            "needs_background": "light"
          }
        }
      ]
    },
    {
      "cell_type": "markdown",
      "metadata": {
        "id": "yu-21pnQIvPl"
      },
      "source": [
        "The confusion matrix above shows that the majority of observations have been correctly classified, as previously indicated by the high accuracy obtained from this model."
      ]
    },
    {
      "cell_type": "markdown",
      "metadata": {
        "id": "JDtG9JDOqGmv"
      },
      "source": [
        "### Observe example misclassifications\n",
        "The code below allows you to observe some of the images that were misclassified by the final model. This information might be useful in working out particular types of images that the model found hard to classify correctly, which might inform how to further improve the model. "
      ]
    },
    {
      "cell_type": "code",
      "metadata": {
        "colab": {
          "base_uri": "https://localhost:8080/",
          "height": 469
        },
        "id": "y_1I5PMfKLAF",
        "outputId": "7801c090-d12c-4693-a1f0-c7f3feab8b18"
      },
      "source": [
        "# Create a vector that allows errors to be identified.\n",
        "errors = test_y_classes - test_preds_classes\n",
        "error_indexes = np.where(errors != 0)\n",
        "\n",
        "# Plot the first 10 errors.\n",
        "fig = plt.figure(figsize=(10,5))\n",
        "rows = 2\n",
        "columns = 5\n",
        "for i in range(0, 10):\n",
        "    print(str(i+1)+'. Actual digit: ' + str(test_y_classes[error_indexes[0][i]]) +\n",
        "          ' Predicted digit: ' + str(test_preds_classes[error_indexes[0][i]]))\n",
        "    fig.add_subplot(rows, columns, i+1)\n",
        "    plt.imshow(test_x_final[error_indexes[0][i]][:,:,0]);\n",
        "plt.show()\n"
      ],
      "execution_count": 24,
      "outputs": [
        {
          "output_type": "stream",
          "name": "stdout",
          "text": [
            "1. Actual digit: 4 Predicted digit: 9\n",
            "2. Actual digit: 0 Predicted digit: 7\n",
            "3. Actual digit: 0 Predicted digit: 2\n",
            "4. Actual digit: 1 Predicted digit: 4\n",
            "5. Actual digit: 4 Predicted digit: 6\n",
            "6. Actual digit: 0 Predicted digit: 6\n",
            "7. Actual digit: 8 Predicted digit: 4\n",
            "8. Actual digit: 0 Predicted digit: 2\n",
            "9. Actual digit: 9 Predicted digit: 8\n",
            "10. Actual digit: 9 Predicted digit: 4\n"
          ]
        },
        {
          "output_type": "display_data",
          "data": {
            "image/png": "[encoded data removed]",
            "text/plain": [
              "<Figure size 720x360 with 10 Axes>"
            ]
          },
          "metadata": {
            "needs_background": "light"
          }
        }
      ]
    }
  ]
}