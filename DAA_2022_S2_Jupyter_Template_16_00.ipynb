{
  "cells": [
    {
      "cell_type": "markdown",
      "metadata": {
        "id": "VG9PY05cFJ_R"
      },
      "source": [
        "# DAA 2022 S2 Assignment\n",
        "\n",
        "Candidate number: 222408\n",
        "\n",
        "## Purpose:\n",
        "*Provide a clear and concise statement of the purpose of this notebook.*\n",
        "\n",
        "*NB: In this notebook template, text and code cells have been created for step 1 and step 2/3/4 etc. You should replicate this structure for each individual step you undertake under each of the question headings. *\n"
      ],
      "id": "VG9PY05cFJ_R"
    },
    {
      "cell_type": "markdown",
      "metadata": {
        "id": "XtZXmepZWbBz"
      },
      "source": [
        "## Packages\n",
        "This section imports the packages that are used in this notebook."
      ],
      "id": "XtZXmepZWbBz"
    },
    {
      "cell_type": "code",
      "execution_count": 1,
      "metadata": {
        "colab": {
          "base_uri": "https://localhost:8080/"
        },
        "id": "KQVVeMMzHYK2",
        "outputId": "a1ea8539-c5fd-4cb8-c8ab-135604b3e9cf"
      },
      "outputs": [
        {
          "output_type": "stream",
          "name": "stderr",
          "text": [
            "[nltk_data] Downloading package stopwords to /root/nltk_data...\n",
            "[nltk_data]   Unzipping corpora/stopwords.zip.\n",
            "[nltk_data] Downloading package wordnet to /root/nltk_data...\n"
          ]
        },
        {
          "output_type": "stream",
          "name": "stdout",
          "text": [
            "Looking in indexes: https://pypi.org/simple, https://us-python.pkg.dev/colab-wheels/public/simple/\n",
            "Collecting symspellpy\n",
            "  Downloading symspellpy-6.7.6-py3-none-any.whl (2.6 MB)\n",
            "\u001b[K     |████████████████████████████████| 2.6 MB 4.3 MB/s \n",
            "\u001b[?25hCollecting editdistpy>=0.1.3\n",
            "  Downloading editdistpy-0.1.3-cp37-cp37m-manylinux_2_5_x86_64.manylinux1_x86_64.manylinux_2_17_x86_64.manylinux2014_x86_64.whl (125 kB)\n",
            "\u001b[K     |████████████████████████████████| 125 kB 55.5 MB/s \n",
            "\u001b[?25hInstalling collected packages: editdistpy, symspellpy\n",
            "Successfully installed editdistpy-0.1.3 symspellpy-6.7.6\n",
            "Looking in indexes: https://pypi.org/simple, https://us-python.pkg.dev/colab-wheels/public/simple/\n",
            "Collecting sentence_transformers\n",
            "  Downloading sentence-transformers-2.2.2.tar.gz (85 kB)\n",
            "\u001b[K     |████████████████████████████████| 85 kB 2.1 MB/s \n",
            "\u001b[?25hCollecting transformers<5.0.0,>=4.6.0\n",
            "  Downloading transformers-4.21.2-py3-none-any.whl (4.7 MB)\n",
            "\u001b[K     |████████████████████████████████| 4.7 MB 39.3 MB/s \n",
            "\u001b[?25hRequirement already satisfied: tqdm in /usr/local/lib/python3.7/dist-packages (from sentence_transformers) (4.64.0)\n",
            "Requirement already satisfied: torch>=1.6.0 in /usr/local/lib/python3.7/dist-packages (from sentence_transformers) (1.12.1+cu113)\n",
            "Requirement already satisfied: torchvision in /usr/local/lib/python3.7/dist-packages (from sentence_transformers) (0.13.1+cu113)\n",
            "Requirement already satisfied: numpy in /usr/local/lib/python3.7/dist-packages (from sentence_transformers) (1.21.6)\n",
            "Requirement already satisfied: scikit-learn in /usr/local/lib/python3.7/dist-packages (from sentence_transformers) (1.0.2)\n",
            "Requirement already satisfied: scipy in /usr/local/lib/python3.7/dist-packages (from sentence_transformers) (1.7.3)\n",
            "Requirement already satisfied: nltk in /usr/local/lib/python3.7/dist-packages (from sentence_transformers) (3.7)\n",
            "Collecting sentencepiece\n",
            "  Downloading sentencepiece-0.1.97-cp37-cp37m-manylinux_2_17_x86_64.manylinux2014_x86_64.whl (1.3 MB)\n",
            "\u001b[K     |████████████████████████████████| 1.3 MB 19.5 MB/s \n",
            "\u001b[?25hCollecting huggingface-hub>=0.4.0\n",
            "  Downloading huggingface_hub-0.9.1-py3-none-any.whl (120 kB)\n",
            "\u001b[K     |████████████████████████████████| 120 kB 34.8 MB/s \n",
            "\u001b[?25hRequirement already satisfied: filelock in /usr/local/lib/python3.7/dist-packages (from huggingface-hub>=0.4.0->sentence_transformers) (3.8.0)\n",
            "Requirement already satisfied: requests in /usr/local/lib/python3.7/dist-packages (from huggingface-hub>=0.4.0->sentence_transformers) (2.23.0)\n",
            "Requirement already satisfied: packaging>=20.9 in /usr/local/lib/python3.7/dist-packages (from huggingface-hub>=0.4.0->sentence_transformers) (21.3)\n",
            "Requirement already satisfied: pyyaml>=5.1 in /usr/local/lib/python3.7/dist-packages (from huggingface-hub>=0.4.0->sentence_transformers) (6.0)\n",
            "Requirement already satisfied: importlib-metadata in /usr/local/lib/python3.7/dist-packages (from huggingface-hub>=0.4.0->sentence_transformers) (4.12.0)\n",
            "Requirement already satisfied: typing-extensions>=3.7.4.3 in /usr/local/lib/python3.7/dist-packages (from huggingface-hub>=0.4.0->sentence_transformers) (4.1.1)\n",
            "Requirement already satisfied: pyparsing!=3.0.5,>=2.0.2 in /usr/local/lib/python3.7/dist-packages (from packaging>=20.9->huggingface-hub>=0.4.0->sentence_transformers) (3.0.9)\n",
            "Requirement already satisfied: regex!=2019.12.17 in /usr/local/lib/python3.7/dist-packages (from transformers<5.0.0,>=4.6.0->sentence_transformers) (2022.6.2)\n",
            "Collecting tokenizers!=0.11.3,<0.13,>=0.11.1\n",
            "  Downloading tokenizers-0.12.1-cp37-cp37m-manylinux_2_12_x86_64.manylinux2010_x86_64.whl (6.6 MB)\n",
            "\u001b[K     |████████████████████████████████| 6.6 MB 42.8 MB/s \n",
            "\u001b[?25hRequirement already satisfied: zipp>=0.5 in /usr/local/lib/python3.7/dist-packages (from importlib-metadata->huggingface-hub>=0.4.0->sentence_transformers) (3.8.1)\n",
            "Requirement already satisfied: joblib in /usr/local/lib/python3.7/dist-packages (from nltk->sentence_transformers) (1.1.0)\n",
            "Requirement already satisfied: click in /usr/local/lib/python3.7/dist-packages (from nltk->sentence_transformers) (7.1.2)\n",
            "Requirement already satisfied: certifi>=2017.4.17 in /usr/local/lib/python3.7/dist-packages (from requests->huggingface-hub>=0.4.0->sentence_transformers) (2022.6.15)\n",
            "Requirement already satisfied: idna<3,>=2.5 in /usr/local/lib/python3.7/dist-packages (from requests->huggingface-hub>=0.4.0->sentence_transformers) (2.10)\n",
            "Requirement already satisfied: urllib3!=1.25.0,!=1.25.1,<1.26,>=1.21.1 in /usr/local/lib/python3.7/dist-packages (from requests->huggingface-hub>=0.4.0->sentence_transformers) (1.24.3)\n",
            "Requirement already satisfied: chardet<4,>=3.0.2 in /usr/local/lib/python3.7/dist-packages (from requests->huggingface-hub>=0.4.0->sentence_transformers) (3.0.4)\n",
            "Requirement already satisfied: threadpoolctl>=2.0.0 in /usr/local/lib/python3.7/dist-packages (from scikit-learn->sentence_transformers) (3.1.0)\n",
            "Requirement already satisfied: pillow!=8.3.*,>=5.3.0 in /usr/local/lib/python3.7/dist-packages (from torchvision->sentence_transformers) (7.1.2)\n",
            "Building wheels for collected packages: sentence-transformers\n",
            "  Building wheel for sentence-transformers (setup.py) ... \u001b[?25l\u001b[?25hdone\n",
            "  Created wheel for sentence-transformers: filename=sentence_transformers-2.2.2-py3-none-any.whl size=125938 sha256=fa044c6355cb96477f049296415312cd7b6a8af517c4cb884b07c4a924674983\n",
            "  Stored in directory: /root/.cache/pip/wheels/bf/06/fb/d59c1e5bd1dac7f6cf61ec0036cc3a10ab8fecaa6b2c3d3ee9\n",
            "Successfully built sentence-transformers\n",
            "Installing collected packages: tokenizers, huggingface-hub, transformers, sentencepiece, sentence-transformers\n",
            "Successfully installed huggingface-hub-0.9.1 sentence-transformers-2.2.2 sentencepiece-0.1.97 tokenizers-0.12.1 transformers-4.21.2\n"
          ]
        }
      ],
      "source": [
        "# Packages for data management.\n",
        "import pandas as pd\n",
        "import numpy as np\n",
        "\n",
        "# Packages to be used in pre-processing the text.\n",
        "import re\n",
        "import nltk\n",
        "nltk.download('stopwords') # For a standard list of stopwords.\n",
        "nltk.download('wordnet') # For lemmatisation.\n",
        "import pkg_resources\n",
        "!pip install symspellpy\n",
        "from symspellpy import SymSpell, Verbosity\n",
        "\n",
        "# Packages for visualisation.\n",
        "# from pprint import pprint\n",
        "# import seaborn as sns\n",
        "import matplotlib.pyplot as plt\n",
        "from wordcloud import WordCloud\n",
        "from collections import Counter\n",
        "\n",
        "# For vectorisation using TF-IDF and t-SNE.\n",
        "from sklearn.feature_extraction.text import TfidfVectorizer\n",
        "from sklearn.manifold import TSNE\n",
        "\n",
        "\n",
        "# For vectorisation using BERT.\n",
        "!pip install sentence_transformers\n",
        "from sentence_transformers import SentenceTransformer\n",
        "\n",
        "\n",
        "# For uploading files to Colab.\n",
        "from google.colab import files"
      ],
      "id": "KQVVeMMzHYK2"
    },
    {
      "cell_type": "markdown",
      "metadata": {
        "id": "xoME0nrg1r9X"
      },
      "source": [
        "## Functions\n",
        "This section sets out user defined functions that are used in this notebook."
      ],
      "id": "xoME0nrg1r9X"
    },
    {
      "cell_type": "code",
      "execution_count": null,
      "metadata": {
        "id": "bdb58870-1f66-4302-b7d5-1576d58e3dbf"
      },
      "outputs": [],
      "source": [
        "# Function 1\n",
        "\n",
        "# Function 2/3/4 etc.\n"
      ],
      "id": "bdb58870-1f66-4302-b7d5-1576d58e3dbf"
    },
    {
      "cell_type": "markdown",
      "metadata": {
        "id": "1LOeKQASWwat"
      },
      "source": [
        "## Import data\n",
        "This section imports the data that is used in this notebook.\n",
        "\n",
        "*You should include a reference to the dataset you have used here.*"
      ],
      "id": "1LOeKQASWwat"
    },
    {
      "cell_type": "code",
      "execution_count": 2,
      "metadata": {
        "colab": {
          "base_uri": "https://localhost:8080/"
        },
        "id": "mAUUy6CsObRk",
        "outputId": "1b33937e-e7ac-43a3-cf2f-217bf8273897"
      },
      "outputs": [
        {
          "output_type": "stream",
          "name": "stdout",
          "text": [
            "Mounted at /content/gdrive/\n"
          ]
        }
      ],
      "source": [
        "from google.colab import drive\n",
        "drive.mount('/content/gdrive/',force_remount=True)\n",
        "\n",
        "# Specify the Google Drive folder that your datasets are saved in.\n",
        "infolder = '/content/gdrive/My Drive/DAA datasets/'\n",
        "\n",
        "# Specify the name of the dataset to be imported.\n",
        "file = 'DAA 2022 S2 Assignment - Property Data FINAL.xlsx'\n",
        "\n",
        "# Upload the required YELP file from your Google Drive folder.\n",
        "dataset = pd.read_excel(infolder+file)"
      ],
      "id": "mAUUy6CsObRk"
    },
    {
      "cell_type": "code",
      "execution_count": null,
      "metadata": {
        "id": "PIuA9lJII86e"
      },
      "outputs": [],
      "source": [
        "# Create dataset from the excel import.\n",
        "files.upload()\n",
        "\n",
        "dataset = pd.read_excel('DAA 2022 S2 Assignment - Property Data FINAL.xlsx')\n",
        "\n",
        "print(dataset.shape)"
      ],
      "id": "PIuA9lJII86e"
    },
    {
      "cell_type": "markdown",
      "metadata": {
        "id": "7640511f-7f89-41bf-99b8-fd27f1ff4048"
      },
      "source": [
        "## Q3a - Examine the property dataset\n",
        "### Purpose:\n",
        "*Provide a clear and concise statement of the purpose of this section.*\n",
        "\n",
        "### References:\n",
        "*Outline any references you have used in this section of your notebook here.*"
      ],
      "id": "7640511f-7f89-41bf-99b8-fd27f1ff4048"
    },
    {
      "cell_type": "markdown",
      "metadata": {
        "id": "pu3zYh523in1"
      },
      "source": [
        "### Q3a Step 1 - Data structure\n",
        "**Outline**\n",
        "\n",
        "*Provide a clear and concise outline here about the EDA that you have conducted in the section below. This should include what you are doing and why.*"
      ],
      "id": "pu3zYh523in1"
    },
    {
      "cell_type": "code",
      "execution_count": null,
      "metadata": {
        "colab": {
          "base_uri": "https://localhost:8080/"
        },
        "id": "KGEFavpK3k1X",
        "outputId": "4295f225-ac8e-4724-c3da-7d1909a9a82e"
      },
      "outputs": [
        {
          "name": "stdout",
          "output_type": "stream",
          "text": [
            "(49608, 14)\n",
            "                     Address  Suburb  Postcode  Beds  Bathrooms  Carspaces  \\\n",
            "0     323/158-166 Day Street  Sydney      2000     2        2.0          1   \n",
            "1  Level 69/115  Bathurst St  Sydney      2000     2        2.0          1   \n",
            "2        1564/37 King Street  Sydney      2000     1        1.0          0   \n",
            "3   4504/93 Liverpool Street  Sydney      2000     2        2.0          1   \n",
            "4  209/298-304 Sussex Street  Sydney      2000     1        1.0          0   \n",
            "\n",
            "  PropertyType   SoldDate                       SoldPrice FirstAdDate  \\\n",
            "0    Apartment 2021-04-01                         1188000  2020-10-30   \n",
            "1    Apartment 2021-04-04  Range: $2,310,000 - $2,690,000  2020-11-13   \n",
            "2    Apartment 2021-04-12                          790000  2021-03-19   \n",
            "3    Apartment 2021-04-14                         1385000  2021-02-26   \n",
            "4    Apartment 2021-04-19                          750000  2021-04-02   \n",
            "\n",
            "               AdPrice                                          AdHeading  \\\n",
            "0              1285000  Two bedroom, Two Bathroom Apartment with Sydne...   \n",
            "1        Contact Agent    North Facing two bedroom with Breathtaking View   \n",
            "2               845000  Stunning one bedroom apartment with coveted no...   \n",
            "3  For Sale $1,480,000    Spacious Two Bedroom in prestigious World Tower   \n",
            "4  $720,000 - $780,000  Huge one bedroom apartment - Dual level city loft   \n",
            "\n",
            "                                              AdBody  \\\n",
            "0  Primely located on Day Street adjacent to spec...   \n",
            "1  North Facing High Level Luxury 2 Bedroom View ...   \n",
            "2  Ideally positioned on the 15th floor this styl...   \n",
            "3  This immaculate dual facing apartment position...   \n",
            "4  This unique apartment is the perfect city resi...   \n",
            "\n",
            "                         AgencyName  \n",
            "0       Infinity Property - Sydney   \n",
            "1          Legend Property - SYDNEY  \n",
            "2  Century 21 City Quarter - Sydney  \n",
            "3             Ray Realtors - SYDNEY  \n",
            "4       Elders Sydney City - SYDNEY  \n"
          ]
        }
      ],
      "source": [
        "# Check the size of the dataset.\n",
        "print(dataset.shape)\n",
        "\n",
        "# Print the first 5 rows of data.\n",
        "print(dataset.head())\n"
      ],
      "id": "KGEFavpK3k1X"
    },
    {
      "cell_type": "code",
      "execution_count": null,
      "metadata": {
        "colab": {
          "base_uri": "https://localhost:8080/"
        },
        "id": "dfmLBXe-_oe9",
        "outputId": "81a75a11-5e8b-404f-dcaa-a3ea9a62794b"
      },
      "outputs": [
        {
          "name": "stdout",
          "output_type": "stream",
          "text": [
            "                      Address     Suburb  Postcode  Beds  Bathrooms  \\\n",
            "49603      12 Cuttriss Street  Inverloch      3996     4        2.0   \n",
            "49604  Unit 1/26 Freda Street  Inverloch      3996     2        2.0   \n",
            "49605         10 Ripple Drive  Inverloch      3996     4        2.0   \n",
            "49606          3 Ripple Drive  Inverloch      3996     0        NaN   \n",
            "49607      25 Paperbark Place  Inverloch      3996     4        2.0   \n",
            "\n",
            "       Carspaces      PropertyType   SoldDate SoldPrice FirstAdDate  AdPrice  \\\n",
            "49603          0             House 2021-06-23   1110000  2021-05-07  1300000   \n",
            "49604          1              Unit 2021-06-24    745000  2021-05-28   745000   \n",
            "49605          0             House 2021-06-27    900000  2021-05-21   895000   \n",
            "49606          0  Residential Land 2021-06-29    625000  2021-06-11   625000   \n",
            "49607          4             House 2021-06-29   1310000  2021-02-26  1360000   \n",
            "\n",
            "                                           AdHeading  \\\n",
            "49603  DOORS TO THE SEA WITH DEVELOPMENT OPPORTUNITY   \n",
            "49604                  CAPTIVATING COASTAL TOWNHOUSE   \n",
            "49605                               Ripper on Ripple   \n",
            "49606                     SO CLOSE TO THE SURF BEACH   \n",
            "49607            Period Style - Contemporary Glamour   \n",
            "\n",
            "                                                  AdBody  \\\n",
            "49603  Sitting proudly on approximately 1264 square m...   \n",
            "49604  A gorgeous modern townhouse set in a leafy tre...   \n",
            "49605  Located in a prime locale of Inverloch, just a...   \n",
            "49606  A rare opportunity to secure a vacant allotmen...   \n",
            "49607  Located just a few minutes' walk to the surf b...   \n",
            "\n",
            "                                  AgencyName  \n",
            "49603                  LJ Hooker - Inverloch  \n",
            "49604                  LJ Hooker - Inverloch  \n",
            "49605  Southcoast First National - Inverloch  \n",
            "49606                  LJ Hooker - Inverloch  \n",
            "49607         Alex Scott & Staff - Inverloch  \n"
          ]
        }
      ],
      "source": [
        "# Print the last 5 rows of data.\n",
        "print(dataset.tail())"
      ],
      "id": "dfmLBXe-_oe9"
    },
    {
      "cell_type": "markdown",
      "metadata": {
        "id": "00c8c00a-c189-4ce0-887e-d413ce6894b0"
      },
      "source": [
        "**Summary**  \n",
        "*Provide a clear and concise summary here of your conclusions based on the EDA conducted above.*"
      ],
      "id": "00c8c00a-c189-4ce0-887e-d413ce6894b0"
    },
    {
      "cell_type": "markdown",
      "metadata": {
        "id": "ze6Gv4kr2yom"
      },
      "source": [
        "### Q3a Step 2 - Types of data\n",
        "**Outline**\n",
        "\n",
        "Here we check for the datatypes because sometimes variables might be stored as not desirable types (e.g. sales price is stored as a string rather than an integer), then we have to convert those types before processing the data"
      ],
      "id": "ze6Gv4kr2yom"
    },
    {
      "cell_type": "code",
      "execution_count": null,
      "metadata": {
        "colab": {
          "base_uri": "https://localhost:8080/"
        },
        "id": "ff1278c5-cb17-4542-ab1c-631366898f27",
        "outputId": "aba59cbf-ab8e-4848-8748-95c8953482b0"
      },
      "outputs": [
        {
          "name": "stdout",
          "output_type": "stream",
          "text": [
            "Address                 object\n",
            "Suburb                  object\n",
            "Postcode                 int64\n",
            "Beds                     int64\n",
            "Bathrooms              float64\n",
            "Carspaces                int64\n",
            "PropertyType            object\n",
            "SoldDate        datetime64[ns]\n",
            "SoldPrice               object\n",
            "FirstAdDate     datetime64[ns]\n",
            "AdPrice                 object\n",
            "AdHeading               object\n",
            "AdBody                  object\n",
            "AgencyName              object\n",
            "dtype: object\n"
          ]
        }
      ],
      "source": [
        "# Check the types of each feature and the response variable ('label').\n",
        "print(dataset.dtypes)\n"
      ],
      "id": "ff1278c5-cb17-4542-ab1c-631366898f27"
    },
    {
      "cell_type": "markdown",
      "metadata": {
        "id": "ySLmm_pI3n7W"
      },
      "source": [
        "**Summary**  \n",
        "The data types for most variables make sense except the below which requires further cleaning: \n",
        "- 'Bathrooms': the data type should be integer \n",
        "- 'SoldPrice' and 'AdPrice' should be floating-point number\n"
      ],
      "id": "ySLmm_pI3n7W"
    },
    {
      "cell_type": "markdown",
      "source": [
        "### Clean Propertype\n",
        "\n"
      ],
      "metadata": {
        "id": "WpQXHZ7r6LIr"
      },
      "id": "WpQXHZ7r6LIr"
    },
    {
      "cell_type": "code",
      "source": [
        "#### pivot table#### \n",
        "\n",
        "cleandata['StandardType'] = cleandata['PropertyType']\n",
        "\n",
        "for i in range (0,len(cleandata)):\n",
        "  if cleandata.loc[i,'StandardType'] in ['Unit','Flat','Studio','Serviced Apartment']:\n",
        "    cleandata.loc[i,'StandardType'] = \"Apartment\"\n",
        "\n",
        "  elif cleandata.loc[i,'StandardType'] in ['Cropping','Dairy','Farmlet','Horticulture','Livestock','Mixed Farming']:\n",
        "    cleandata.loc[i,'StandardType'] = \"Agriculture\"\n",
        "  \n",
        "  elif cleandata.loc[i,'StandardType'] in ['Duplex/Semi-detached','Terrace','Townhouse','Villa']: \n",
        "    cleandata.loc[i,'StandardType'] ='Semi-detached'\n",
        "  \n",
        "  elif cleandata.loc[i,'StandardType'] in ['Alpine','Lifestyle','Other','Retirement Living','Viticulture/vineyard','Warehouse']:\n",
        "    cleandata.loc[i,'StandardType'] ='To remove'\n",
        "\n",
        "#check results \n",
        "pd.pivot_table(data=cleandata,\n",
        "               index=['StandardType','PropertyType'], \n",
        "               values=['Address'],\n",
        "               aggfunc = 'count')\n",
        "\n"
      ],
      "metadata": {
        "id": "a9uKstlr6K2A"
      },
      "id": "a9uKstlr6K2A",
      "execution_count": null,
      "outputs": []
    },
    {
      "cell_type": "code",
      "source": [
        "# drop the type 'To Remove'\n",
        "cleandata = cleandata[cleandata[\"StandardType\"].str.contains(\"To remove\")==False].reset_index(drop=True)\n"
      ],
      "metadata": {
        "id": "PoPSPqpI2zrt"
      },
      "id": "PoPSPqpI2zrt",
      "execution_count": null,
      "outputs": []
    },
    {
      "cell_type": "markdown",
      "source": [
        "### Check up postcode\n"
      ],
      "metadata": {
        "id": "XHjlWwBu6Ksb"
      },
      "id": "XHjlWwBu6Ksb"
    },
    {
      "cell_type": "code",
      "source": [],
      "metadata": {
        "id": "DTXFpJWuAqjQ",
        "outputId": "53adfcb3-e669-4cae-c23f-44c3b5856e6c",
        "colab": {
          "resources": {
            "http://localhost:8080/nbextensions/google.colab/files.js": {
              "data": "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",
              "ok": true,
              "headers": [
                [
                  "content-type",
                  "application/javascript"
                ]
              ],
              "status": 200,
              "status_text": "OK"
            }
          },
          "base_uri": "https://localhost:8080/",
          "height": 432
        }
      },
      "id": "DTXFpJWuAqjQ",
      "execution_count": 23,
      "outputs": [
        {
          "output_type": "display_data",
          "data": {
            "text/plain": [
              "<IPython.core.display.HTML object>"
            ],
            "text/html": [
              "\n",
              "     <input type=\"file\" id=\"files-aef28f28-ecc2-464b-afa4-01753e254b31\" name=\"files[]\" multiple disabled\n",
              "        style=\"border:none\" />\n",
              "     <output id=\"result-aef28f28-ecc2-464b-afa4-01753e254b31\">\n",
              "      Upload widget is only available when the cell has been executed in the\n",
              "      current browser session. Please rerun this cell to enable.\n",
              "      </output>\n",
              "      <script src=\"/nbextensions/google.colab/files.js\"></script> "
            ]
          },
          "metadata": {}
        },
        {
          "output_type": "error",
          "ename": "FileNotFoundError",
          "evalue": "ignored",
          "traceback": [
            "\u001b[0;31m---------------------------------------------------------------------------\u001b[0m",
            "\u001b[0;31mFileNotFoundError\u001b[0m                         Traceback (most recent call last)",
            "\u001b[0;32m<ipython-input-23-fbf63d7aad06>\u001b[0m in \u001b[0;36m<module>\u001b[0;34m\u001b[0m\n\u001b[1;32m      2\u001b[0m \u001b[0mfiles\u001b[0m\u001b[0;34m.\u001b[0m\u001b[0mupload\u001b[0m\u001b[0;34m(\u001b[0m\u001b[0;34m)\u001b[0m\u001b[0;34m\u001b[0m\u001b[0;34m\u001b[0m\u001b[0m\n\u001b[1;32m      3\u001b[0m \u001b[0;34m\u001b[0m\u001b[0m\n\u001b[0;32m----> 4\u001b[0;31m \u001b[0mpostcodedata\u001b[0m \u001b[0;34m=\u001b[0m \u001b[0mpd\u001b[0m\u001b[0;34m.\u001b[0m\u001b[0mread_excel\u001b[0m\u001b[0;34m(\u001b[0m\u001b[0;34m'australian_postcodes.xlsx'\u001b[0m\u001b[0;34m,\u001b[0m\u001b[0musecols\u001b[0m\u001b[0;34m=\u001b[0m\u001b[0;34m\"A:F\"\u001b[0m\u001b[0;34m)\u001b[0m\u001b[0;34m\u001b[0m\u001b[0;34m\u001b[0m\u001b[0m\n\u001b[0m\u001b[1;32m      5\u001b[0m \u001b[0;34m\u001b[0m\u001b[0m\n\u001b[1;32m      6\u001b[0m \u001b[0mprint\u001b[0m\u001b[0;34m(\u001b[0m\u001b[0mpostcodedata\u001b[0m\u001b[0;34m.\u001b[0m\u001b[0mshape\u001b[0m\u001b[0;34m)\u001b[0m\u001b[0;34m\u001b[0m\u001b[0;34m\u001b[0m\u001b[0m\n",
            "\u001b[0;32m/usr/local/lib/python3.7/dist-packages/pandas/util/_decorators.py\u001b[0m in \u001b[0;36mwrapper\u001b[0;34m(*args, **kwargs)\u001b[0m\n\u001b[1;32m    309\u001b[0m                     \u001b[0mstacklevel\u001b[0m\u001b[0;34m=\u001b[0m\u001b[0mstacklevel\u001b[0m\u001b[0;34m,\u001b[0m\u001b[0;34m\u001b[0m\u001b[0;34m\u001b[0m\u001b[0m\n\u001b[1;32m    310\u001b[0m                 )\n\u001b[0;32m--> 311\u001b[0;31m             \u001b[0;32mreturn\u001b[0m \u001b[0mfunc\u001b[0m\u001b[0;34m(\u001b[0m\u001b[0;34m*\u001b[0m\u001b[0margs\u001b[0m\u001b[0;34m,\u001b[0m \u001b[0;34m**\u001b[0m\u001b[0mkwargs\u001b[0m\u001b[0;34m)\u001b[0m\u001b[0;34m\u001b[0m\u001b[0;34m\u001b[0m\u001b[0m\n\u001b[0m\u001b[1;32m    312\u001b[0m \u001b[0;34m\u001b[0m\u001b[0m\n\u001b[1;32m    313\u001b[0m         \u001b[0;32mreturn\u001b[0m \u001b[0mwrapper\u001b[0m\u001b[0;34m\u001b[0m\u001b[0;34m\u001b[0m\u001b[0m\n",
            "\u001b[0;32m/usr/local/lib/python3.7/dist-packages/pandas/io/excel/_base.py\u001b[0m in \u001b[0;36mread_excel\u001b[0;34m(io, sheet_name, header, names, index_col, usecols, squeeze, dtype, engine, converters, true_values, false_values, skiprows, nrows, na_values, keep_default_na, na_filter, verbose, parse_dates, date_parser, thousands, comment, skipfooter, convert_float, mangle_dupe_cols, storage_options)\u001b[0m\n\u001b[1;32m    362\u001b[0m     \u001b[0;32mif\u001b[0m \u001b[0;32mnot\u001b[0m \u001b[0misinstance\u001b[0m\u001b[0;34m(\u001b[0m\u001b[0mio\u001b[0m\u001b[0;34m,\u001b[0m \u001b[0mExcelFile\u001b[0m\u001b[0;34m)\u001b[0m\u001b[0;34m:\u001b[0m\u001b[0;34m\u001b[0m\u001b[0;34m\u001b[0m\u001b[0m\n\u001b[1;32m    363\u001b[0m         \u001b[0mshould_close\u001b[0m \u001b[0;34m=\u001b[0m \u001b[0;32mTrue\u001b[0m\u001b[0;34m\u001b[0m\u001b[0;34m\u001b[0m\u001b[0m\n\u001b[0;32m--> 364\u001b[0;31m         \u001b[0mio\u001b[0m \u001b[0;34m=\u001b[0m \u001b[0mExcelFile\u001b[0m\u001b[0;34m(\u001b[0m\u001b[0mio\u001b[0m\u001b[0;34m,\u001b[0m \u001b[0mstorage_options\u001b[0m\u001b[0;34m=\u001b[0m\u001b[0mstorage_options\u001b[0m\u001b[0;34m,\u001b[0m \u001b[0mengine\u001b[0m\u001b[0;34m=\u001b[0m\u001b[0mengine\u001b[0m\u001b[0;34m)\u001b[0m\u001b[0;34m\u001b[0m\u001b[0;34m\u001b[0m\u001b[0m\n\u001b[0m\u001b[1;32m    365\u001b[0m     \u001b[0;32melif\u001b[0m \u001b[0mengine\u001b[0m \u001b[0;32mand\u001b[0m \u001b[0mengine\u001b[0m \u001b[0;34m!=\u001b[0m \u001b[0mio\u001b[0m\u001b[0;34m.\u001b[0m\u001b[0mengine\u001b[0m\u001b[0;34m:\u001b[0m\u001b[0;34m\u001b[0m\u001b[0;34m\u001b[0m\u001b[0m\n\u001b[1;32m    366\u001b[0m         raise ValueError(\n",
            "\u001b[0;32m/usr/local/lib/python3.7/dist-packages/pandas/io/excel/_base.py\u001b[0m in \u001b[0;36m__init__\u001b[0;34m(self, path_or_buffer, engine, storage_options)\u001b[0m\n\u001b[1;32m   1190\u001b[0m             \u001b[0;32melse\u001b[0m\u001b[0;34m:\u001b[0m\u001b[0;34m\u001b[0m\u001b[0;34m\u001b[0m\u001b[0m\n\u001b[1;32m   1191\u001b[0m                 ext = inspect_excel_format(\n\u001b[0;32m-> 1192\u001b[0;31m                     \u001b[0mcontent_or_path\u001b[0m\u001b[0;34m=\u001b[0m\u001b[0mpath_or_buffer\u001b[0m\u001b[0;34m,\u001b[0m \u001b[0mstorage_options\u001b[0m\u001b[0;34m=\u001b[0m\u001b[0mstorage_options\u001b[0m\u001b[0;34m\u001b[0m\u001b[0;34m\u001b[0m\u001b[0m\n\u001b[0m\u001b[1;32m   1193\u001b[0m                 )\n\u001b[1;32m   1194\u001b[0m                 \u001b[0;32mif\u001b[0m \u001b[0mext\u001b[0m \u001b[0;32mis\u001b[0m \u001b[0;32mNone\u001b[0m\u001b[0;34m:\u001b[0m\u001b[0;34m\u001b[0m\u001b[0;34m\u001b[0m\u001b[0m\n",
            "\u001b[0;32m/usr/local/lib/python3.7/dist-packages/pandas/io/excel/_base.py\u001b[0m in \u001b[0;36minspect_excel_format\u001b[0;34m(content_or_path, storage_options)\u001b[0m\n\u001b[1;32m   1069\u001b[0m \u001b[0;34m\u001b[0m\u001b[0m\n\u001b[1;32m   1070\u001b[0m     with get_handle(\n\u001b[0;32m-> 1071\u001b[0;31m         \u001b[0mcontent_or_path\u001b[0m\u001b[0;34m,\u001b[0m \u001b[0;34m\"rb\"\u001b[0m\u001b[0;34m,\u001b[0m \u001b[0mstorage_options\u001b[0m\u001b[0;34m=\u001b[0m\u001b[0mstorage_options\u001b[0m\u001b[0;34m,\u001b[0m \u001b[0mis_text\u001b[0m\u001b[0;34m=\u001b[0m\u001b[0;32mFalse\u001b[0m\u001b[0;34m\u001b[0m\u001b[0;34m\u001b[0m\u001b[0m\n\u001b[0m\u001b[1;32m   1072\u001b[0m     ) as handle:\n\u001b[1;32m   1073\u001b[0m         \u001b[0mstream\u001b[0m \u001b[0;34m=\u001b[0m \u001b[0mhandle\u001b[0m\u001b[0;34m.\u001b[0m\u001b[0mhandle\u001b[0m\u001b[0;34m\u001b[0m\u001b[0;34m\u001b[0m\u001b[0m\n",
            "\u001b[0;32m/usr/local/lib/python3.7/dist-packages/pandas/io/common.py\u001b[0m in \u001b[0;36mget_handle\u001b[0;34m(path_or_buf, mode, encoding, compression, memory_map, is_text, errors, storage_options)\u001b[0m\n\u001b[1;32m    709\u001b[0m         \u001b[0;32melse\u001b[0m\u001b[0;34m:\u001b[0m\u001b[0;34m\u001b[0m\u001b[0;34m\u001b[0m\u001b[0m\n\u001b[1;32m    710\u001b[0m             \u001b[0;31m# Binary mode\u001b[0m\u001b[0;34m\u001b[0m\u001b[0;34m\u001b[0m\u001b[0;34m\u001b[0m\u001b[0m\n\u001b[0;32m--> 711\u001b[0;31m             \u001b[0mhandle\u001b[0m \u001b[0;34m=\u001b[0m \u001b[0mopen\u001b[0m\u001b[0;34m(\u001b[0m\u001b[0mhandle\u001b[0m\u001b[0;34m,\u001b[0m \u001b[0mioargs\u001b[0m\u001b[0;34m.\u001b[0m\u001b[0mmode\u001b[0m\u001b[0;34m)\u001b[0m\u001b[0;34m\u001b[0m\u001b[0;34m\u001b[0m\u001b[0m\n\u001b[0m\u001b[1;32m    712\u001b[0m         \u001b[0mhandles\u001b[0m\u001b[0;34m.\u001b[0m\u001b[0mappend\u001b[0m\u001b[0;34m(\u001b[0m\u001b[0mhandle\u001b[0m\u001b[0;34m)\u001b[0m\u001b[0;34m\u001b[0m\u001b[0;34m\u001b[0m\u001b[0m\n\u001b[1;32m    713\u001b[0m \u001b[0;34m\u001b[0m\u001b[0m\n",
            "\u001b[0;31mFileNotFoundError\u001b[0m: [Errno 2] No such file or directory: 'australian_postcodes.xlsx'"
          ]
        }
      ]
    },
    {
      "cell_type": "markdown",
      "metadata": {
        "id": "UyevRhD12lv3"
      },
      "source": [
        "### Duplicates check + remove\n"
      ],
      "id": "UyevRhD12lv3"
    },
    {
      "cell_type": "code",
      "execution_count": 3,
      "metadata": {
        "colab": {
          "base_uri": "https://localhost:8080/"
        },
        "id": "QM9JiRo1jjfW",
        "outputId": "09c85b35-272b-486e-f09f-d36e1334c4f6"
      },
      "outputs": [
        {
          "output_type": "stream",
          "name": "stdout",
          "text": [
            "number of duplicate rows:  (8, 14)\n",
            "Address         49607\n",
            "Suburb          49608\n",
            "Postcode        49608\n",
            "Beds            49608\n",
            "Bathrooms       46980\n",
            "Carspaces       49608\n",
            "PropertyType    49608\n",
            "SoldDate        49608\n",
            "SoldPrice       49608\n",
            "FirstAdDate     49608\n",
            "AdPrice         49608\n",
            "AdHeading       49608\n",
            "AdBody          49608\n",
            "AgencyName      49608\n",
            "dtype: int64\n",
            "Address         49599\n",
            "Suburb          49600\n",
            "Postcode        49600\n",
            "Beds            49600\n",
            "Bathrooms       46975\n",
            "Carspaces       49600\n",
            "PropertyType    49600\n",
            "SoldDate        49600\n",
            "SoldPrice       49600\n",
            "FirstAdDate     49600\n",
            "AdPrice         49600\n",
            "AdHeading       49600\n",
            "AdBody          49600\n",
            "AgencyName      49600\n",
            "dtype: int64\n"
          ]
        }
      ],
      "source": [
        "# check duplicates \n",
        "duplicate_rows_dataset = dataset[dataset.duplicated()]\n",
        "print(\"number of duplicate rows: \", duplicate_rows_dataset.shape)\n",
        "duplicate_rows_dataset\n",
        "\n",
        "#drop duplicates \n",
        "print(dataset.count()) # count the number of rows before dropping \n",
        "cleandata = dataset.drop_duplicates().reset_index(drop=True)\n",
        "print(cleandata.count()) #count the number of rows again after dropping duplicates\n"
      ],
      "id": "QM9JiRo1jjfW"
    },
    {
      "cell_type": "markdown",
      "metadata": {
        "id": "-D2VmsrS20gw"
      },
      "source": [
        "### Miss values check + remove"
      ],
      "id": "-D2VmsrS20gw"
    },
    {
      "cell_type": "code",
      "execution_count": null,
      "metadata": {
        "colab": {
          "base_uri": "https://localhost:8080/"
        },
        "id": "UCtcPgqGnvIU",
        "outputId": "c46aab45-0c43-4236-e157-a96b3fdb8d52"
      },
      "outputs": [
        {
          "name": "stdout",
          "output_type": "stream",
          "text": [
            "Address            1\n",
            "Suburb             0\n",
            "Postcode           0\n",
            "Beds               0\n",
            "Bathrooms       2625\n",
            "Carspaces          0\n",
            "PropertyType       0\n",
            "SoldDate           0\n",
            "SoldPrice          0\n",
            "FirstAdDate        0\n",
            "AdPrice            0\n",
            "AdHeading          0\n",
            "AdBody             0\n",
            "AgencyName         0\n",
            "dtype: int64\n"
          ]
        }
      ],
      "source": [
        "#check Null values \n",
        "print(cleandata.isnull().sum())"
      ],
      "id": "UCtcPgqGnvIU"
    },
    {
      "cell_type": "markdown",
      "metadata": {
        "id": "4Mw_upMgoCzT"
      },
      "source": [
        "**Summary** \n",
        "\n",
        "There's a reason in the above step while counting the number of rows where 'Address' had 49599 counts and 'Bathroom' had 46975 counts over 49600 rows. \n",
        "\n",
        "Further examination is required to determine how to deal with the NULL values."
      ],
      "id": "4Mw_upMgoCzT"
    },
    {
      "cell_type": "code",
      "execution_count": null,
      "metadata": {
        "colab": {
          "base_uri": "https://localhost:8080/",
          "height": 232
        },
        "id": "whNBbdvPpBLa",
        "outputId": "037b2aac-280f-423d-a71b-2af793a7b68f"
      },
      "outputs": [
        {
          "data": {
            "text/html": [
              "\n",
              "  <div id=\"df-c3906182-cdcc-4250-906b-bf33c7c8b6db\">\n",
              "    <div class=\"colab-df-container\">\n",
              "      <div>\n",
              "<style scoped>\n",
              "    .dataframe tbody tr th:only-of-type {\n",
              "        vertical-align: middle;\n",
              "    }\n",
              "\n",
              "    .dataframe tbody tr th {\n",
              "        vertical-align: top;\n",
              "    }\n",
              "\n",
              "    .dataframe thead th {\n",
              "        text-align: right;\n",
              "    }\n",
              "</style>\n",
              "<table border=\"1\" class=\"dataframe\">\n",
              "  <thead>\n",
              "    <tr style=\"text-align: right;\">\n",
              "      <th></th>\n",
              "      <th>Address</th>\n",
              "      <th>Suburb</th>\n",
              "      <th>Postcode</th>\n",
              "      <th>Beds</th>\n",
              "      <th>Bathrooms</th>\n",
              "      <th>Carspaces</th>\n",
              "      <th>PropertyType</th>\n",
              "      <th>SoldDate</th>\n",
              "      <th>SoldPrice</th>\n",
              "      <th>FirstAdDate</th>\n",
              "      <th>AdPrice</th>\n",
              "      <th>AdHeading</th>\n",
              "      <th>AdBody</th>\n",
              "      <th>AgencyName</th>\n",
              "    </tr>\n",
              "  </thead>\n",
              "  <tbody>\n",
              "    <tr>\n",
              "      <th>41741</th>\n",
              "      <td>Unknown</td>\n",
              "      <td>Landsborough</td>\n",
              "      <td>3384</td>\n",
              "      <td>0</td>\n",
              "      <td>NaN</td>\n",
              "      <td>0</td>\n",
              "      <td>Lifestyle</td>\n",
              "      <td>2021-06-11</td>\n",
              "      <td>210000</td>\n",
              "      <td>2021-05-28</td>\n",
              "      <td>210000</td>\n",
              "      <td>Pyrenees Weekender/Hobby Block</td>\n",
              "      <td>What a great opportunity to secure an approx 5...</td>\n",
              "      <td>Elders Real Estate Ararat - ARARAT</td>\n",
              "    </tr>\n",
              "  </tbody>\n",
              "</table>\n",
              "</div>\n",
              "      <button class=\"colab-df-convert\" onclick=\"convertToInteractive('df-c3906182-cdcc-4250-906b-bf33c7c8b6db')\"\n",
              "              title=\"Convert this dataframe to an interactive table.\"\n",
              "              style=\"display:none;\">\n",
              "        \n",
              "  <svg xmlns=\"http://www.w3.org/2000/svg\" height=\"24px\"viewBox=\"0 0 24 24\"\n",
              "       width=\"24px\">\n",
              "    <path d=\"M0 0h24v24H0V0z\" fill=\"none\"/>\n",
              "    <path d=\"M18.56 5.44l.94 2.06.94-2.06 2.06-.94-2.06-.94-.94-2.06-.94 2.06-2.06.94zm-11 1L8.5 8.5l.94-2.06 2.06-.94-2.06-.94L8.5 2.5l-.94 2.06-2.06.94zm10 10l.94 2.06.94-2.06 2.06-.94-2.06-.94-.94-2.06-.94 2.06-2.06.94z\"/><path d=\"M17.41 7.96l-1.37-1.37c-.4-.4-.92-.59-1.43-.59-.52 0-1.04.2-1.43.59L10.3 9.45l-7.72 7.72c-.78.78-.78 2.05 0 2.83L4 21.41c.39.39.9.59 1.41.59.51 0 1.02-.2 1.41-.59l7.78-7.78 2.81-2.81c.8-.78.8-2.07 0-2.86zM5.41 20L4 18.59l7.72-7.72 1.47 1.35L5.41 20z\"/>\n",
              "  </svg>\n",
              "      </button>\n",
              "      \n",
              "  <style>\n",
              "    .colab-df-container {\n",
              "      display:flex;\n",
              "      flex-wrap:wrap;\n",
              "      gap: 12px;\n",
              "    }\n",
              "\n",
              "    .colab-df-convert {\n",
              "      background-color: #E8F0FE;\n",
              "      border: none;\n",
              "      border-radius: 50%;\n",
              "      cursor: pointer;\n",
              "      display: none;\n",
              "      fill: #1967D2;\n",
              "      height: 32px;\n",
              "      padding: 0 0 0 0;\n",
              "      width: 32px;\n",
              "    }\n",
              "\n",
              "    .colab-df-convert:hover {\n",
              "      background-color: #E2EBFA;\n",
              "      box-shadow: 0px 1px 2px rgba(60, 64, 67, 0.3), 0px 1px 3px 1px rgba(60, 64, 67, 0.15);\n",
              "      fill: #174EA6;\n",
              "    }\n",
              "\n",
              "    [theme=dark] .colab-df-convert {\n",
              "      background-color: #3B4455;\n",
              "      fill: #D2E3FC;\n",
              "    }\n",
              "\n",
              "    [theme=dark] .colab-df-convert:hover {\n",
              "      background-color: #434B5C;\n",
              "      box-shadow: 0px 1px 3px 1px rgba(0, 0, 0, 0.15);\n",
              "      filter: drop-shadow(0px 1px 2px rgba(0, 0, 0, 0.3));\n",
              "      fill: #FFFFFF;\n",
              "    }\n",
              "  </style>\n",
              "\n",
              "      <script>\n",
              "        const buttonEl =\n",
              "          document.querySelector('#df-c3906182-cdcc-4250-906b-bf33c7c8b6db button.colab-df-convert');\n",
              "        buttonEl.style.display =\n",
              "          google.colab.kernel.accessAllowed ? 'block' : 'none';\n",
              "\n",
              "        async function convertToInteractive(key) {\n",
              "          const element = document.querySelector('#df-c3906182-cdcc-4250-906b-bf33c7c8b6db');\n",
              "          const dataTable =\n",
              "            await google.colab.kernel.invokeFunction('convertToInteractive',\n",
              "                                                     [key], {});\n",
              "          if (!dataTable) return;\n",
              "\n",
              "          const docLinkHtml = 'Like what you see? Visit the ' +\n",
              "            '<a target=\"_blank\" href=https://colab.research.google.com/notebooks/data_table.ipynb>data table notebook</a>'\n",
              "            + ' to learn more about interactive tables.';\n",
              "          element.innerHTML = '';\n",
              "          dataTable['output_type'] = 'display_data';\n",
              "          await google.colab.output.renderOutput(dataTable, element);\n",
              "          const docLink = document.createElement('div');\n",
              "          docLink.innerHTML = docLinkHtml;\n",
              "          element.appendChild(docLink);\n",
              "        }\n",
              "      </script>\n",
              "    </div>\n",
              "  </div>\n",
              "  "
            ],
            "text/plain": [
              "       Address        Suburb  Postcode  Beds  Bathrooms  Carspaces  \\\n",
              "41741  Unknown  Landsborough      3384     0        NaN          0   \n",
              "\n",
              "      PropertyType   SoldDate SoldPrice FirstAdDate AdPrice  \\\n",
              "41741    Lifestyle 2021-06-11    210000  2021-05-28  210000   \n",
              "\n",
              "                            AdHeading  \\\n",
              "41741  Pyrenees Weekender/Hobby Block   \n",
              "\n",
              "                                                  AdBody  \\\n",
              "41741  What a great opportunity to secure an approx 5...   \n",
              "\n",
              "                               AgencyName  \n",
              "41741  Elders Real Estate Ararat - ARARAT  "
            ]
          },
          "execution_count": 9,
          "metadata": {},
          "output_type": "execute_result"
        }
      ],
      "source": [
        "# check Null values - Address\n",
        "# extract the row\n",
        "index_add = cleandata[cleandata['Address'].isnull()].index.tolist()\n",
        "index_add\n",
        "cleandata.loc[index_add]\n",
        "\n",
        "#replace the missing value with \"Unknown\"\n",
        "cleandata.loc[index_add,\"Address\"] = \"Unknown\"\n",
        "cleandata.loc[index_add]\n",
        "\n"
      ],
      "id": "whNBbdvPpBLa"
    },
    {
      "cell_type": "code",
      "execution_count": null,
      "metadata": {
        "colab": {
          "base_uri": "https://localhost:8080/"
        },
        "id": "9C1BYknbszL7",
        "outputId": "0e3941eb-411d-4d0b-eec3-4099a864abbf"
      },
      "outputs": [
        {
          "name": "stdout",
          "output_type": "stream",
          "text": [
            "2625\n"
          ]
        }
      ],
      "source": [
        "# check Null values - Bathrooms\n",
        "# extract the row\n",
        "index_bath = cleandata[cleandata['Bathrooms'].isnull()].index.tolist()\n",
        "# check number of rows\n",
        "print(len(index_bath))\n"
      ],
      "id": "9C1BYknbszL7"
    },
    {
      "cell_type": "code",
      "execution_count": null,
      "metadata": {
        "colab": {
          "base_uri": "https://localhost:8080/",
          "height": 617
        },
        "id": "77DcKGCD0acd",
        "outputId": "cb47877f-4051-41ad-c4cf-9468183072ff"
      },
      "outputs": [
        {
          "data": {
            "text/html": [
              "\n",
              "  <div id=\"df-7a991993-3b26-451b-8f0a-16f9aa4662f1\">\n",
              "    <div class=\"colab-df-container\">\n",
              "      <div>\n",
              "<style scoped>\n",
              "    .dataframe tbody tr th:only-of-type {\n",
              "        vertical-align: middle;\n",
              "    }\n",
              "\n",
              "    .dataframe tbody tr th {\n",
              "        vertical-align: top;\n",
              "    }\n",
              "\n",
              "    .dataframe thead th {\n",
              "        text-align: right;\n",
              "    }\n",
              "</style>\n",
              "<table border=\"1\" class=\"dataframe\">\n",
              "  <thead>\n",
              "    <tr style=\"text-align: right;\">\n",
              "      <th></th>\n",
              "      <th>Address</th>\n",
              "      <th>Suburb</th>\n",
              "      <th>Postcode</th>\n",
              "      <th>Beds</th>\n",
              "      <th>Bathrooms</th>\n",
              "      <th>Carspaces</th>\n",
              "      <th>PropertyType</th>\n",
              "      <th>SoldDate</th>\n",
              "      <th>SoldPrice</th>\n",
              "      <th>FirstAdDate</th>\n",
              "      <th>AdPrice</th>\n",
              "      <th>AdHeading</th>\n",
              "      <th>AdBody</th>\n",
              "      <th>AgencyName</th>\n",
              "    </tr>\n",
              "  </thead>\n",
              "  <tbody>\n",
              "    <tr>\n",
              "      <th>32</th>\n",
              "      <td>Lot 2006, TBA Byron Road</td>\n",
              "      <td>Leppington</td>\n",
              "      <td>2006</td>\n",
              "      <td>0</td>\n",
              "      <td>NaN</td>\n",
              "      <td>0</td>\n",
              "      <td>Residential Land</td>\n",
              "      <td>2021-06-05</td>\n",
              "      <td>580000</td>\n",
              "      <td>2021-01-29</td>\n",
              "      <td>Contact Agent</td>\n",
              "      <td>Land or House and Land Packages : Leppington</td>\n",
              "      <td>Lot 2006, TBA, Byron Road Leppington.&lt;br/&gt;&lt;br/...</td>\n",
              "      <td>Multi Dynamic Auburn - AUBURN</td>\n",
              "    </tr>\n",
              "    <tr>\n",
              "      <th>837</th>\n",
              "      <td>167 Malabar Road</td>\n",
              "      <td>South Coogee</td>\n",
              "      <td>2034</td>\n",
              "      <td>0</td>\n",
              "      <td>NaN</td>\n",
              "      <td>0</td>\n",
              "      <td>Residential Land</td>\n",
              "      <td>2021-05-15</td>\n",
              "      <td>2175000</td>\n",
              "      <td>2021-04-30</td>\n",
              "      <td>Auction</td>\n",
              "      <td>Rare Site opportunity - Vacant Land</td>\n",
              "      <td>A rare opportunity in a Coastal location, this...</td>\n",
              "      <td>Ray White - Ray White Surry Hills | Alexandria...</td>\n",
              "    </tr>\n",
              "    <tr>\n",
              "      <th>1854</th>\n",
              "      <td>Lot 306, St Columbans Green</td>\n",
              "      <td>North Turramurra</td>\n",
              "      <td>2074</td>\n",
              "      <td>0</td>\n",
              "      <td>NaN</td>\n",
              "      <td>0</td>\n",
              "      <td>Residential Land</td>\n",
              "      <td>2021-04-13</td>\n",
              "      <td>2400000</td>\n",
              "      <td>2020-12-04</td>\n",
              "      <td>2245000</td>\n",
              "      <td>Prestige Corner Position in St Columbans Green</td>\n",
              "      <td>935sqm Torrens Title corner location in the pr...</td>\n",
              "      <td>Proland Marketing</td>\n",
              "    </tr>\n",
              "    <tr>\n",
              "      <th>1855</th>\n",
              "      <td>Lot 312, Toms Pocket</td>\n",
              "      <td>North Turramurra</td>\n",
              "      <td>2074</td>\n",
              "      <td>0</td>\n",
              "      <td>NaN</td>\n",
              "      <td>0</td>\n",
              "      <td>Residential Land</td>\n",
              "      <td>2021-04-16</td>\n",
              "      <td>2385000</td>\n",
              "      <td>2020-12-11</td>\n",
              "      <td>Contact Agent</td>\n",
              "      <td>Superb Vacant St Columbans Land</td>\n",
              "      <td>EXCLUSIVE . INCLUSIVE . ENCHANTING.&lt;br/&gt;&lt;br/&gt;F...</td>\n",
              "      <td>Proland Marketing</td>\n",
              "    </tr>\n",
              "    <tr>\n",
              "      <th>1867</th>\n",
              "      <td>Lot 404, Toms Pocket</td>\n",
              "      <td>North Turramurra</td>\n",
              "      <td>2074</td>\n",
              "      <td>0</td>\n",
              "      <td>NaN</td>\n",
              "      <td>0</td>\n",
              "      <td>Residential Land</td>\n",
              "      <td>2021-04-28</td>\n",
              "      <td>2448000</td>\n",
              "      <td>2021-04-23</td>\n",
              "      <td>Contact Agent</td>\n",
              "      <td>Pristine 828sqm Land Lot at St Columbans New R...</td>\n",
              "      <td>Lot 404 Toms Pocket is one of ten level land l...</td>\n",
              "      <td>Proland Marketing</td>\n",
              "    </tr>\n",
              "  </tbody>\n",
              "</table>\n",
              "</div>\n",
              "      <button class=\"colab-df-convert\" onclick=\"convertToInteractive('df-7a991993-3b26-451b-8f0a-16f9aa4662f1')\"\n",
              "              title=\"Convert this dataframe to an interactive table.\"\n",
              "              style=\"display:none;\">\n",
              "        \n",
              "  <svg xmlns=\"http://www.w3.org/2000/svg\" height=\"24px\"viewBox=\"0 0 24 24\"\n",
              "       width=\"24px\">\n",
              "    <path d=\"M0 0h24v24H0V0z\" fill=\"none\"/>\n",
              "    <path d=\"M18.56 5.44l.94 2.06.94-2.06 2.06-.94-2.06-.94-.94-2.06-.94 2.06-2.06.94zm-11 1L8.5 8.5l.94-2.06 2.06-.94-2.06-.94L8.5 2.5l-.94 2.06-2.06.94zm10 10l.94 2.06.94-2.06 2.06-.94-2.06-.94-.94-2.06-.94 2.06-2.06.94z\"/><path d=\"M17.41 7.96l-1.37-1.37c-.4-.4-.92-.59-1.43-.59-.52 0-1.04.2-1.43.59L10.3 9.45l-7.72 7.72c-.78.78-.78 2.05 0 2.83L4 21.41c.39.39.9.59 1.41.59.51 0 1.02-.2 1.41-.59l7.78-7.78 2.81-2.81c.8-.78.8-2.07 0-2.86zM5.41 20L4 18.59l7.72-7.72 1.47 1.35L5.41 20z\"/>\n",
              "  </svg>\n",
              "      </button>\n",
              "      \n",
              "  <style>\n",
              "    .colab-df-container {\n",
              "      display:flex;\n",
              "      flex-wrap:wrap;\n",
              "      gap: 12px;\n",
              "    }\n",
              "\n",
              "    .colab-df-convert {\n",
              "      background-color: #E8F0FE;\n",
              "      border: none;\n",
              "      border-radius: 50%;\n",
              "      cursor: pointer;\n",
              "      display: none;\n",
              "      fill: #1967D2;\n",
              "      height: 32px;\n",
              "      padding: 0 0 0 0;\n",
              "      width: 32px;\n",
              "    }\n",
              "\n",
              "    .colab-df-convert:hover {\n",
              "      background-color: #E2EBFA;\n",
              "      box-shadow: 0px 1px 2px rgba(60, 64, 67, 0.3), 0px 1px 3px 1px rgba(60, 64, 67, 0.15);\n",
              "      fill: #174EA6;\n",
              "    }\n",
              "\n",
              "    [theme=dark] .colab-df-convert {\n",
              "      background-color: #3B4455;\n",
              "      fill: #D2E3FC;\n",
              "    }\n",
              "\n",
              "    [theme=dark] .colab-df-convert:hover {\n",
              "      background-color: #434B5C;\n",
              "      box-shadow: 0px 1px 3px 1px rgba(0, 0, 0, 0.15);\n",
              "      filter: drop-shadow(0px 1px 2px rgba(0, 0, 0, 0.3));\n",
              "      fill: #FFFFFF;\n",
              "    }\n",
              "  </style>\n",
              "\n",
              "      <script>\n",
              "        const buttonEl =\n",
              "          document.querySelector('#df-7a991993-3b26-451b-8f0a-16f9aa4662f1 button.colab-df-convert');\n",
              "        buttonEl.style.display =\n",
              "          google.colab.kernel.accessAllowed ? 'block' : 'none';\n",
              "\n",
              "        async function convertToInteractive(key) {\n",
              "          const element = document.querySelector('#df-7a991993-3b26-451b-8f0a-16f9aa4662f1');\n",
              "          const dataTable =\n",
              "            await google.colab.kernel.invokeFunction('convertToInteractive',\n",
              "                                                     [key], {});\n",
              "          if (!dataTable) return;\n",
              "\n",
              "          const docLinkHtml = 'Like what you see? Visit the ' +\n",
              "            '<a target=\"_blank\" href=https://colab.research.google.com/notebooks/data_table.ipynb>data table notebook</a>'\n",
              "            + ' to learn more about interactive tables.';\n",
              "          element.innerHTML = '';\n",
              "          dataTable['output_type'] = 'display_data';\n",
              "          await google.colab.output.renderOutput(dataTable, element);\n",
              "          const docLink = document.createElement('div');\n",
              "          docLink.innerHTML = docLinkHtml;\n",
              "          element.appendChild(docLink);\n",
              "        }\n",
              "      </script>\n",
              "    </div>\n",
              "  </div>\n",
              "  "
            ],
            "text/plain": [
              "                          Address            Suburb  Postcode  Beds  \\\n",
              "32       Lot 2006, TBA Byron Road        Leppington      2006     0   \n",
              "837              167 Malabar Road      South Coogee      2034     0   \n",
              "1854  Lot 306, St Columbans Green  North Turramurra      2074     0   \n",
              "1855         Lot 312, Toms Pocket  North Turramurra      2074     0   \n",
              "1867         Lot 404, Toms Pocket  North Turramurra      2074     0   \n",
              "\n",
              "      Bathrooms  Carspaces      PropertyType   SoldDate SoldPrice FirstAdDate  \\\n",
              "32          NaN          0  Residential Land 2021-06-05    580000  2021-01-29   \n",
              "837         NaN          0  Residential Land 2021-05-15   2175000  2021-04-30   \n",
              "1854        NaN          0  Residential Land 2021-04-13   2400000  2020-12-04   \n",
              "1855        NaN          0  Residential Land 2021-04-16   2385000  2020-12-11   \n",
              "1867        NaN          0  Residential Land 2021-04-28   2448000  2021-04-23   \n",
              "\n",
              "            AdPrice                                          AdHeading  \\\n",
              "32    Contact Agent       Land or House and Land Packages : Leppington   \n",
              "837         Auction                Rare Site opportunity - Vacant Land   \n",
              "1854        2245000    Prestige Corner Position in St Columbans Green    \n",
              "1855  Contact Agent                   Superb Vacant St Columbans Land    \n",
              "1867  Contact Agent  Pristine 828sqm Land Lot at St Columbans New R...   \n",
              "\n",
              "                                                 AdBody  \\\n",
              "32    Lot 2006, TBA, Byron Road Leppington.<br/><br/...   \n",
              "837   A rare opportunity in a Coastal location, this...   \n",
              "1854  935sqm Torrens Title corner location in the pr...   \n",
              "1855  EXCLUSIVE . INCLUSIVE . ENCHANTING.<br/><br/>F...   \n",
              "1867  Lot 404 Toms Pocket is one of ten level land l...   \n",
              "\n",
              "                                             AgencyName  \n",
              "32                        Multi Dynamic Auburn - AUBURN  \n",
              "837   Ray White - Ray White Surry Hills | Alexandria...  \n",
              "1854                                  Proland Marketing  \n",
              "1855                                  Proland Marketing  \n",
              "1867                                  Proland Marketing  "
            ]
          },
          "execution_count": 150,
          "metadata": {},
          "output_type": "execute_result"
        }
      ],
      "source": [
        "#check the first 5 headers \n",
        "cleandata.loc[index_bath].head()\n"
      ],
      "id": "77DcKGCD0acd"
    },
    {
      "cell_type": "code",
      "execution_count": null,
      "metadata": {
        "colab": {
          "base_uri": "https://localhost:8080/"
        },
        "id": "7STNQqyG0h9c",
        "outputId": "653d9fc4-2d0f-406b-b2f5-38c81826a479"
      },
      "outputs": [
        {
          "name": "stdout",
          "output_type": "stream",
          "text": [
            "                      AdBody  AdHeading  AdPrice  Address  AgencyName  \\\n",
            "PropertyType                                                            \n",
            "Cropping                  24         24       24       24          24   \n",
            "Farmlet                    4          4        4        4           4   \n",
            "Horticulture               4          4        4        4           4   \n",
            "Lifestyle                109        109      109      109         109   \n",
            "Livestock                 24         24       24       24          24   \n",
            "Mixed Farming             21         21       21       21          21   \n",
            "Other                     75         75       75       75          75   \n",
            "Residential Land        2363       2363     2363     2363        2363   \n",
            "Viticulture/vineyard       1          1        1        1           1   \n",
            "\n",
            "                      Bathrooms  Beds  Carspaces  FirstAdDate  Postcode  \\\n",
            "PropertyType                                                              \n",
            "Cropping                      0    24         24           24        24   \n",
            "Farmlet                       0     4          4            4         4   \n",
            "Horticulture                  0     4          4            4         4   \n",
            "Lifestyle                     0   109        109          109       109   \n",
            "Livestock                     0    24         24           24        24   \n",
            "Mixed Farming                 0    21         21           21        21   \n",
            "Other                         0    75         75           75        75   \n",
            "Residential Land              0  2363       2363         2363      2363   \n",
            "Viticulture/vineyard          0     1          1            1         1   \n",
            "\n",
            "                      SoldDate  SoldPrice  Suburb  \n",
            "PropertyType                                       \n",
            "Cropping                    24         24      24  \n",
            "Farmlet                      4          4       4  \n",
            "Horticulture                 4          4       4  \n",
            "Lifestyle                  109        109     109  \n",
            "Livestock                   24         24      24  \n",
            "Mixed Farming               21         21      21  \n",
            "Other                       75         75      75  \n",
            "Residential Land          2363       2363    2363  \n",
            "Viticulture/vineyard         1          1       1  \n"
          ]
        }
      ],
      "source": [
        "#the PropertyType is \"Reinsidential Land\" for the first 5 rows with Null Bathrooms \n",
        "output = pd.pivot_table(data=cleandata.loc[index_bath], \n",
        "                        index=['PropertyType'], \n",
        "                        aggfunc = 'count')\n",
        "\n",
        "print(output)\n",
        "\n",
        "# Comments: based on the Property Type, it makes sense to have 0 bathrooms based on the domain knowledge. \n",
        "# Suggest placing NULL with \"0\" \n"
      ],
      "id": "7STNQqyG0h9c"
    },
    {
      "cell_type": "code",
      "execution_count": null,
      "metadata": {
        "id": "VmD_sdM72J4e"
      },
      "outputs": [],
      "source": [
        "#placing NULL with \"0\"\n",
        "cleandata.loc[index_bath,'Bathrooms'] = 0\n",
        "cleandata.loc[index_bath].head()\n"
      ],
      "id": "VmD_sdM72J4e"
    },
    {
      "cell_type": "code",
      "execution_count": null,
      "metadata": {
        "colab": {
          "base_uri": "https://localhost:8080/"
        },
        "id": "Tcul2QTJ2c--",
        "outputId": "f728970e-c8df-4911-d68f-21f003708a88"
      },
      "outputs": [
        {
          "name": "stdout",
          "output_type": "stream",
          "text": [
            "False\n"
          ]
        }
      ],
      "source": [
        "#final check nulls \n",
        "print(cleandata.isnull().values.any())"
      ],
      "id": "Tcul2QTJ2c--"
    },
    {
      "cell_type": "code",
      "execution_count": null,
      "metadata": {
        "id": "LiULMB8A2VOi"
      },
      "outputs": [],
      "source": [
        "#make integer \n",
        "cleandata = cleandata.astype({'Bathrooms':'int'})\n",
        "\n",
        "#final check types \n",
        "print(cleandata.dtypes)"
      ],
      "id": "LiULMB8A2VOi"
    },
    {
      "cell_type": "markdown",
      "metadata": {
        "id": "HqFXezUDLlT1"
      },
      "source": [
        "### Ad date < Sold date"
      ],
      "id": "HqFXezUDLlT1"
    },
    {
      "cell_type": "code",
      "execution_count": null,
      "metadata": {
        "id": "EsljPTjSLkrr"
      },
      "outputs": [],
      "source": [
        "# Sold date should be on or after Ad date \n",
        "identifier = cleandata[cleandata['SoldDate'] < cleandata['FirstAdDate']].index.tolist()\n",
        "len(identifier)\n",
        "errorset = cleandata.loc[identifier]\n",
        "errorset['diffindate']= errorset['SoldDate'] - errorset['FirstAdDate']\n",
        "errorset['diffindate'].describe()\n",
        "plt.hist(errorset['diffindate'].dt.days)\n",
        "\n",
        "\n"
      ],
      "id": "EsljPTjSLkrr"
    },
    {
      "cell_type": "code",
      "execution_count": null,
      "metadata": {
        "colab": {
          "base_uri": "https://localhost:8080/"
        },
        "id": "LgHXKE7Bt_5p",
        "outputId": "39f829a6-43ea-44fc-cd39-325379bcfe1f"
      },
      "outputs": [
        {
          "name": "stdout",
          "output_type": "stream",
          "text": [
            "False\n"
          ]
        }
      ],
      "source": [
        "\n",
        "#assume swapped -> swap \n",
        "cleandata.loc[identifier,'SoldDate'] = errorset['FirstAdDate']\n",
        "cleandata.loc[identifier,'FirstAdDate'] = errorset['SoldDate']\n",
        "\n",
        "#check\n",
        "print(cleandata[cleandata['SoldDate'] < cleandata['FirstAdDate']].values.any()) "
      ],
      "id": "LgHXKE7Bt_5p"
    },
    {
      "cell_type": "markdown",
      "metadata": {
        "id": "CgtttZpgUaTJ"
      },
      "source": [
        "### Sold price remove the range"
      ],
      "id": "CgtttZpgUaTJ"
    },
    {
      "cell_type": "code",
      "execution_count": null,
      "metadata": {
        "id": "RIdbVj0iUcz3"
      },
      "outputs": [],
      "source": [
        "# SoldPrice's type is \"object\", which should be floating numbers. Investigate \n",
        "cleandata = dataset.drop_duplicates().reset_index(drop=True)\n",
        "\n",
        "cleandata\n",
        "import statistics\n",
        "\n",
        "for i in range(0,len(cleandata)):\n",
        "  if not isinstance(cleandata.loc[i,'SoldPrice'],int): \n",
        "   templist = cleandata.loc[i,'SoldPrice'].replace('-', '$').replace(',','').split(\"$\")\n",
        "   templist = (int(templist[1]),int(templist[3]))\n",
        "   aveprice = statistics.mean(templist)\n",
        "   cleandata.loc[i,'SoldPrice'] = aveprice\n",
        "\n",
        "#make SoldPrice  \n",
        "cleandata = cleandata.astype({'SoldPrice':'int'})\n",
        "\n",
        "#check types \n",
        "cleandata.dtypes\n"
      ],
      "id": "RIdbVj0iUcz3"
    },
    {
      "cell_type": "markdown",
      "metadata": {
        "id": "6aNIa8PF5mCc"
      },
      "source": [
        "### Ad Price "
      ],
      "id": "6aNIa8PF5mCc"
    },
    {
      "cell_type": "code",
      "execution_count": null,
      "metadata": {
        "colab": {
          "background_save": true
        },
        "id": "7kz_dWOK5UP-",
        "outputId": "5e647336-03df-40b6-ceaa-bb98ab7a5927"
      },
      "outputs": [
        {
          "ename": "TypeError",
          "evalue": "ignored",
          "output_type": "error",
          "traceback": [
            "\u001b[0;31m---------------------------------------------------------------------------\u001b[0m",
            "\u001b[0;31mTypeError\u001b[0m                                 Traceback (most recent call last)",
            "\u001b[0;32m<ipython-input-48-28fe97c5d96c>\u001b[0m in \u001b[0;36m<module>\u001b[0;34m\u001b[0m\n\u001b[1;32m     12\u001b[0m   \u001b[0;32mif\u001b[0m \u001b[0misinstance\u001b[0m\u001b[0;34m(\u001b[0m\u001b[0mcleandata\u001b[0m\u001b[0;34m.\u001b[0m\u001b[0mloc\u001b[0m\u001b[0;34m[\u001b[0m\u001b[0mi\u001b[0m\u001b[0;34m,\u001b[0m\u001b[0;34m'AdPrice'\u001b[0m\u001b[0;34m]\u001b[0m\u001b[0;34m,\u001b[0m\u001b[0mdatetime\u001b[0m\u001b[0;34m)\u001b[0m\u001b[0;34m:\u001b[0m\u001b[0;34m\u001b[0m\u001b[0;34m\u001b[0m\u001b[0m\n\u001b[1;32m     13\u001b[0m     \u001b[0;32mcontinue\u001b[0m\u001b[0;34m\u001b[0m\u001b[0;34m\u001b[0m\u001b[0m\n\u001b[0;32m---> 14\u001b[0;31m   \u001b[0;32melif\u001b[0m \u001b[0;34m'$'\u001b[0m \u001b[0;32min\u001b[0m \u001b[0mcleandata\u001b[0m\u001b[0;34m.\u001b[0m\u001b[0mloc\u001b[0m\u001b[0;34m[\u001b[0m\u001b[0mi\u001b[0m\u001b[0;34m,\u001b[0m\u001b[0;34m'AdPrice'\u001b[0m\u001b[0;34m]\u001b[0m\u001b[0;34m:\u001b[0m\u001b[0;34m\u001b[0m\u001b[0;34m\u001b[0m\u001b[0m\n\u001b[0m\u001b[1;32m     15\u001b[0m     \u001b[0mcount\u001b[0m \u001b[0;34m=\u001b[0m \u001b[0mcount\u001b[0m \u001b[0;34m+\u001b[0m \u001b[0;36m1\u001b[0m\u001b[0;34m\u001b[0m\u001b[0;34m\u001b[0m\u001b[0m\n\u001b[1;32m     16\u001b[0m \u001b[0;34m\u001b[0m\u001b[0m\n",
            "\u001b[0;31mTypeError\u001b[0m: argument of type 'int' is not iterable"
          ]
        }
      ],
      "source": [
        "# upon rough checking, quite a lot of entries just have 'Auction' or 'Contact Agent'\n",
        "# instead of listing a price \n",
        "\n",
        "#check those that contain an indication \n",
        "\n",
        "cleandata['AdPrice'].str.contains('$')\n",
        "from datetime import datetime\n",
        "count = 0 \n",
        "for i in range(0,len(cleandata)):\n",
        "  if isinstance(cleandata.loc[i,'AdPrice'],int): \n",
        "    count = count +1 \n",
        "  if isinstance(cleandata.loc[i,'AdPrice'],datetime): \n",
        "    continue\n",
        "  elif '$' in cleandata.loc[i,'AdPrice']:\n",
        "    count = count + 1 \n",
        "\n",
        "print(count)\n"
      ],
      "id": "7kz_dWOK5UP-"
    },
    {
      "cell_type": "markdown",
      "metadata": {
        "id": "2klLMrpl-r5U"
      },
      "source": [
        "**Overall summary**  \n",
        "*Provide a clear and concise overall summary here of your conclusions from this section of the notebook.*"
      ],
      "id": "2klLMrpl-r5U"
    },
    {
      "cell_type": "markdown",
      "metadata": {
        "id": "WohuYv9qVkoj"
      },
      "source": [
        "## Q3b - Data cleaning and pre-processing\n",
        "### Purpose:\n",
        "*Provide a clear and concise statement of the purpose of this section.*\n",
        "\n",
        "### References:\n",
        "*Outline any references you have used in this section of your notebook here.*"
      ],
      "id": "WohuYv9qVkoj"
    },
    {
      "cell_type": "markdown",
      "metadata": {
        "id": "5UdSc5AJ1jws"
      },
      "source": [
        "### Q3b Step 1\n",
        "**Outline**\n",
        "\n",
        "*Provide a clear and concise outline here about the data cleaning or pre-processing step that you have undertaken in the section below. This should include what you are doing and why.*"
      ],
      "id": "5UdSc5AJ1jws"
    },
    {
      "cell_type": "code",
      "execution_count": null,
      "metadata": {
        "id": "Qow4rd2uX9Qm"
      },
      "outputs": [],
      "source": [
        "# Q3b Step 1\n"
      ],
      "id": "Qow4rd2uX9Qm"
    },
    {
      "cell_type": "markdown",
      "metadata": {
        "id": "zvd7bx3l_O4P"
      },
      "source": [
        "**Summary**  \n",
        "*Provide a clear and concise summary here of your conclusions based on the data cleaning or pre-processing output. Is the output what was expected? If not, why not?*"
      ],
      "id": "zvd7bx3l_O4P"
    },
    {
      "cell_type": "markdown",
      "metadata": {
        "id": "l0xyuPnd8y4-"
      },
      "source": [
        "### Q3b Step 2/3/4 etc.\n",
        "**Outline**\n",
        "\n",
        "*Provide a clear and concise outline here about the data cleaning or pre-processing step that you have undertaken in the section below. This should include what you are doing and why.*"
      ],
      "id": "l0xyuPnd8y4-"
    },
    {
      "cell_type": "code",
      "execution_count": null,
      "metadata": {
        "id": "macpL5f9YBh6"
      },
      "outputs": [],
      "source": [
        "# Q3b Step 2/3/4 etc."
      ],
      "id": "macpL5f9YBh6"
    },
    {
      "cell_type": "markdown",
      "metadata": {
        "id": "fYBthFiN40g5"
      },
      "source": [
        "**Summary**  \n",
        "*Provide a clear and concise summary here of your conclusions based on the output of the data cleaning or pre-processing. Is the output what was expected? If not, why not?*"
      ],
      "id": "fYBthFiN40g5"
    },
    {
      "cell_type": "markdown",
      "metadata": {
        "id": "-BEf5MEy_clj"
      },
      "source": [
        "**Overall summary**  \n",
        "*Provide a clear and concise overall summary here of your conclusions from this section of the notebook.*"
      ],
      "id": "-BEf5MEy_clj"
    },
    {
      "cell_type": "markdown",
      "metadata": {
        "id": "tXIkXc2hVZg1"
      },
      "source": [
        "## Q4 - Calculate vectorised features\n",
        "### Purpose:\n",
        "*Provide a clear and concise statement of the purpose of this section.*\n",
        "\n",
        "### References:\n",
        "*Outline any references you have used in this section of your notebook here.*"
      ],
      "id": "tXIkXc2hVZg1"
    },
    {
      "cell_type": "markdown",
      "metadata": {
        "id": "jSTLTiopzrh6"
      },
      "source": [
        "### Q4 Step 1\n",
        "**Outline**\n",
        "\n",
        "*Provide a clear and concise outline here about the NLP step that you have undertaken in the section below. This should include what you are doing and why.*\n",
        "\n"
      ],
      "id": "jSTLTiopzrh6"
    },
    {
      "cell_type": "code",
      "execution_count": null,
      "metadata": {
        "id": "YAROP6CqaAuc"
      },
      "outputs": [],
      "source": [
        "# Q4 Step 1"
      ],
      "id": "YAROP6CqaAuc"
    },
    {
      "cell_type": "markdown",
      "metadata": {
        "id": "vPKyRGij5A5a"
      },
      "source": [
        "**Summary**  \n",
        "*Provide a clear and concise summary here of your conclusions based on the output of the NLP step undertaken above. Is the output what was expected? If not, why not?*"
      ],
      "id": "vPKyRGij5A5a"
    },
    {
      "cell_type": "markdown",
      "metadata": {
        "id": "L9VcdJJs8a5N"
      },
      "source": [
        "### Q4 Step 2/3/4 etc.\n",
        "\n",
        "**Outline**\n",
        "\n",
        "*Provide a clear and concise outline here about the NLP step that you have undertaken in the section below. This should include what you are doing and why.*"
      ],
      "id": "L9VcdJJs8a5N"
    },
    {
      "cell_type": "code",
      "execution_count": null,
      "metadata": {
        "id": "OXkXP2fJ7SP5"
      },
      "outputs": [],
      "source": [
        "# Q4 Step 2/3/4 etc."
      ],
      "id": "OXkXP2fJ7SP5"
    },
    {
      "cell_type": "markdown",
      "metadata": {
        "id": "CaURxppl1Oxo"
      },
      "source": [
        "**Summary**  \n",
        "*Provide a clear and concise summary here of your conclusions based on the output of the NLP step undertaken above. Is the output what was expected? If not, why not?*"
      ],
      "id": "CaURxppl1Oxo"
    },
    {
      "cell_type": "markdown",
      "metadata": {
        "id": "CQVXkTpO_aJ-"
      },
      "source": [
        "**Overall summary**  \n",
        "*Provide a clear and concise overall summary here of your conclusions from this section of the notebook.*"
      ],
      "id": "CQVXkTpO_aJ-"
    },
    {
      "cell_type": "markdown",
      "metadata": {
        "id": "tLAS_BvVVtFa"
      },
      "source": [
        "## Q5a - Calculate a response variable\n",
        "### Purpose:\n",
        "*Provide a clear and concise statement of the purpose of this section.*\n",
        "\n",
        "### References:\n",
        "*Outline any references you have used in this section of your notebook here.*"
      ],
      "id": "tLAS_BvVVtFa"
    },
    {
      "cell_type": "markdown",
      "metadata": {
        "id": "vAQcqvgc6Th-"
      },
      "source": [
        "### Q5a Step 1\n",
        "**Outline**\n",
        "\n",
        "*Provide a clear and concise outline here about the step that you have undertaken in the section below. This should include what you are doing and why.*"
      ],
      "id": "vAQcqvgc6Th-"
    },
    {
      "cell_type": "code",
      "execution_count": null,
      "metadata": {
        "id": "bac1c0da-e876-4ada-a3d3-3fa22297e194"
      },
      "outputs": [],
      "source": [
        "# Q5a Step 1"
      ],
      "id": "bac1c0da-e876-4ada-a3d3-3fa22297e194"
    },
    {
      "cell_type": "markdown",
      "metadata": {
        "id": "hjTmMn2w64QS"
      },
      "source": [
        "**Summary**  \n",
        "*Provide a clear and concise summary here of your conclusions based on the output of the step undertaken above. Is the output what was expected? If not, why not?*"
      ],
      "id": "hjTmMn2w64QS"
    },
    {
      "cell_type": "markdown",
      "metadata": {
        "id": "35H5jDIQ9P-4"
      },
      "source": [
        "### Q5a Step 2/3/4 etc.\n",
        "**Outline**\n",
        "\n",
        "*Provide a clear and concise outline here about the step that you have undertaken in the section below. This should include what you are doing and why.*"
      ],
      "id": "35H5jDIQ9P-4"
    },
    {
      "cell_type": "code",
      "execution_count": null,
      "metadata": {
        "id": "Kzw7qRn29Rsl"
      },
      "outputs": [],
      "source": [
        "# Q5a Step 2/3/4 etc."
      ],
      "id": "Kzw7qRn29Rsl"
    },
    {
      "cell_type": "markdown",
      "metadata": {
        "id": "6C48ImRu_1vO"
      },
      "source": [
        "**Summary**  \n",
        "*Provide a clear and concise summary here of your conclusions based on the output of the step undertaken above. Is the output what was expected? If not, why not?*"
      ],
      "id": "6C48ImRu_1vO"
    },
    {
      "cell_type": "markdown",
      "metadata": {
        "id": "IN4cG9zW_mUw"
      },
      "source": [
        "**Overall summary**  \n",
        "*Provide a clear and concise overall summary here of your conclusions from this section of the notebook.*"
      ],
      "id": "IN4cG9zW_mUw"
    },
    {
      "cell_type": "markdown",
      "metadata": {
        "id": "6CN7N0tDFcWZ"
      },
      "source": [
        "## Q5b - Construct an additional feature\n",
        "### Purpose:\n",
        "*Provide a clear and concise statement of the purpose of this section.*\n",
        "\n",
        "### References:\n",
        "*Outline any references you have used in this section of your notebook here.*"
      ],
      "id": "6CN7N0tDFcWZ"
    },
    {
      "cell_type": "markdown",
      "metadata": {
        "id": "zXEBdriRFWL8"
      },
      "source": [
        "### Q5b Step 1\n",
        "**Outline**\n",
        "\n",
        "*Provide a clear and concise outline here about the step that you have undertaken in the section below. This should include what you are doing and why.*"
      ],
      "id": "zXEBdriRFWL8"
    },
    {
      "cell_type": "code",
      "execution_count": null,
      "metadata": {
        "id": "048O4ao8FmUq"
      },
      "outputs": [],
      "source": [
        "# Q5b Step 1"
      ],
      "id": "048O4ao8FmUq"
    },
    {
      "cell_type": "markdown",
      "metadata": {
        "id": "uyvn7VKNFrgl"
      },
      "source": [
        "**Summary**  \n",
        "*Provide a clear and concise summary here of your conclusions based on the output of the step undertaken above. Is the output what was expected? If not, why not?*"
      ],
      "id": "uyvn7VKNFrgl"
    },
    {
      "cell_type": "markdown",
      "metadata": {
        "id": "tDzuZEdZFwr4"
      },
      "source": [
        "### Q5b Step 2/3/4 etc.\n",
        "**Outline**\n",
        "\n",
        "*Provide a clear and concise outline here about the step that you have undertaken in the section below. This should include what you are doing and why.*"
      ],
      "id": "tDzuZEdZFwr4"
    },
    {
      "cell_type": "code",
      "execution_count": null,
      "metadata": {
        "id": "7viLsH4zF1xe"
      },
      "outputs": [],
      "source": [
        "# Q5b Step 2/3/4 etc."
      ],
      "id": "7viLsH4zF1xe"
    },
    {
      "cell_type": "markdown",
      "metadata": {
        "id": "sA5GQkFQF1Sr"
      },
      "source": [
        "**Summary**  \n",
        "*Provide a clear and concise summary here of your conclusions based on the output of the step undertaken above. Is the output what was expected? If not, why not?*"
      ],
      "id": "sA5GQkFQF1Sr"
    },
    {
      "cell_type": "markdown",
      "metadata": {
        "id": "N6WLZK2fF9HV"
      },
      "source": [
        "**Overall summary**  \n",
        "*Provide a clear and concise overall summary here of your conclusions from this section of the notebook.*"
      ],
      "id": "N6WLZK2fF9HV"
    },
    {
      "cell_type": "markdown",
      "metadata": {
        "id": "pEcHtx0IVyY2"
      },
      "source": [
        "## Q5c - Construct a classification model\n",
        "### Purpose:\n",
        "*Provide a clear and concise statement of the purpose of this section.*\n",
        "\n",
        "### References:\n",
        "*Outline any references you have used in this section of your notebook here.*"
      ],
      "id": "pEcHtx0IVyY2"
    },
    {
      "cell_type": "markdown",
      "metadata": {
        "id": "f5d71060-9d6c-4403-8414-7e9acf2091cd"
      },
      "source": [
        "### Q5c Step 1\n",
        "**Outline**\n",
        "\n",
        "*Provide a clear and concise outline here about the model building step that you have undertaken in the section below. This should include what you are doing and why.*"
      ],
      "id": "f5d71060-9d6c-4403-8414-7e9acf2091cd"
    },
    {
      "cell_type": "code",
      "execution_count": null,
      "metadata": {
        "id": "ee615a09-1494-49a1-aa51-0360958a3b3b"
      },
      "outputs": [],
      "source": [
        "# Q5c Step 1\n"
      ],
      "id": "ee615a09-1494-49a1-aa51-0360958a3b3b"
    },
    {
      "cell_type": "markdown",
      "metadata": {
        "id": "HAGLVRjG-Z2g"
      },
      "source": [
        "**Summary**  \n",
        "*Provide a clear and concise summary here of your conclusions based on the output of the model building step undertaken above. Is the output what was expected? If not, why not?*\n",
        "\n",
        "*If this step involved running a new iteration of the model, you should clearly and concisely outline what the iteration hoped to fix, what changes were made to the model, and whether the iteration fixed the problem.*\n"
      ],
      "id": "HAGLVRjG-Z2g"
    },
    {
      "cell_type": "markdown",
      "metadata": {
        "id": "98f27427-f235-4397-bc53-82861e6fbbef"
      },
      "source": [
        "### Q5c Step 2/3/4 etc.\n",
        "**Outline**\n",
        "\n",
        "*Provide a clear and concise outline here about the model building step that you have undertaken in the section below. This should include what you are doing and why.*"
      ],
      "id": "98f27427-f235-4397-bc53-82861e6fbbef"
    },
    {
      "cell_type": "code",
      "execution_count": null,
      "metadata": {
        "id": "d56e3866-a192-4c01-9a24-c9f531150fd2"
      },
      "outputs": [],
      "source": [
        "# Q5c Step 2/3/4 etc.\n"
      ],
      "id": "d56e3866-a192-4c01-9a24-c9f531150fd2"
    },
    {
      "cell_type": "markdown",
      "metadata": {
        "id": "ro5pnGkOAJY7"
      },
      "source": [
        "**Summary**  \n",
        "*Provide a clear and concise summary here of your conclusions based on the output of the model building step undertaken above. Is the output what was expected? If not, why not?*\n",
        "\n",
        "*If this step involved running a new iteration of the model, you should clearly and concisely outline what the iteration hoped to fix, what changes were made to the model, and whether the iteration fixed the problem.*\n"
      ],
      "id": "ro5pnGkOAJY7"
    },
    {
      "cell_type": "markdown",
      "metadata": {
        "id": "y8Eyo16e_oI-"
      },
      "source": [
        "**Overall summary**  \n",
        "*Provide a clear and concise overall summary here of your conclusions from this section of the notebook.*"
      ],
      "id": "y8Eyo16e_oI-"
    },
    {
      "cell_type": "markdown",
      "metadata": {
        "id": "UXG_N0_eV2U7"
      },
      "source": [
        "## Q5d - Evaluate model predictions\n",
        "### Purpose:\n",
        "*Provide a clear and concise statement of the purpose of this section.*\n",
        "\n",
        "### References:\n",
        "*Outline any references you have used in this section of your notebook here.*"
      ],
      "id": "UXG_N0_eV2U7"
    },
    {
      "cell_type": "markdown",
      "metadata": {
        "id": "mown4CzpC19E"
      },
      "source": [
        "### Q5d Step 1\n",
        "**Outline**\n",
        "\n",
        "*Provide a clear and concise outline here about the model evaluation that you have undertaken in the section below. This should include what you are doing and why.*\n"
      ],
      "id": "mown4CzpC19E"
    },
    {
      "cell_type": "code",
      "execution_count": null,
      "metadata": {
        "id": "907bd4ee-2af5-4d41-861d-2643bb9af2d0"
      },
      "outputs": [],
      "source": [
        "# Q5d Step 1\n"
      ],
      "id": "907bd4ee-2af5-4d41-861d-2643bb9af2d0"
    },
    {
      "cell_type": "markdown",
      "metadata": {
        "id": "7lUDXL7pFEVo"
      },
      "source": [
        "**Summary**  \n",
        "*Provide a clear and concise summary here of your conclusions based on the model evaluation undertaken above. Is the output what was expected? If not, why not?*\n"
      ],
      "id": "7lUDXL7pFEVo"
    },
    {
      "cell_type": "markdown",
      "metadata": {
        "id": "ilSRek8i-G7t"
      },
      "source": [
        "### Q5d Step 2/3/4 etc.\n",
        "**Outline**\n",
        "\n",
        "*Provide a clear and concise outline here about the model evaluation that you have undertaken in the section below. This should include what you are doing and why.*"
      ],
      "id": "ilSRek8i-G7t"
    },
    {
      "cell_type": "code",
      "execution_count": null,
      "metadata": {
        "id": "MTGEy-9a-JNK"
      },
      "outputs": [],
      "source": [
        "# Q5d Step 2/3/4 etc.\n"
      ],
      "id": "MTGEy-9a-JNK"
    },
    {
      "cell_type": "markdown",
      "metadata": {
        "id": "AaMBOXcIADNw"
      },
      "source": [
        "**Summary**  \n",
        "*Provide a clear and concise summary here of your conclusions based on the model evaluation undertaken above. Is the output what was expected? If not, why not?*\n"
      ],
      "id": "AaMBOXcIADNw"
    },
    {
      "cell_type": "markdown",
      "metadata": {
        "id": "WhZEdqyg_gXZ"
      },
      "source": [
        "**Overall summary**  \n",
        "*Provide a clear and concise overall summary here of your conclusions from this section of the notebook.*"
      ],
      "id": "WhZEdqyg_gXZ"
    }
  ],
  "metadata": {
    "colab": {
      "collapsed_sections": [],
      "toc_visible": true,
      "provenance": []
    },
    "kernelspec": {
      "display_name": "Python 3",
      "language": "python",
      "name": "python3"
    },
    "language_info": {
      "codemirror_mode": {
        "name": "ipython",
        "version": 3
      },
      "file_extension": ".py",
      "mimetype": "text/x-python",
      "name": "python",
      "nbconvert_exporter": "python",
      "pygments_lexer": "ipython3",
      "version": "3.8.8"
    },
    "toc-autonumbering": false,
    "toc-showmarkdowntxt": false
  },
  "nbformat": 4,
  "nbformat_minor": 5
}